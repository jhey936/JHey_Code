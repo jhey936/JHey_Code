{
 "cells": [
  {
   "cell_type": "markdown",
   "metadata": {
    "slideshow": {
     "slide_type": "skip"
    }
   },
   "source": [
    "!jupyter-nbconvert SQLAlchemy_for_chemists.ipynb --to slides --post serve"
   ]
  },
  {
   "cell_type": "markdown",
   "metadata": {
    "slideshow": {
     "slide_type": "slide"
    }
   },
   "source": [
    "Introduction to SQLAlchemy and Jupyter Notebooks\n",
    "==========================================\n",
    "\n",
    "### John Hey\n",
    "\n",
    "#### Adapted from material by:\n",
    "- Lee Bergstrand\n",
    "- Matt McInnes\n",
    "\n",
    "**Note:** This tutorial is based off the [official SQLAlchemy ORM tutorial](http://docs.sqlalchemy.org/en/rel_1_0/orm/tutorial.html). "
   ]
  },
  {
   "cell_type": "markdown",
   "metadata": {
    "slideshow": {
     "slide_type": "slide"
    }
   },
   "source": [
    "Introduction to SQLAlchemy for Chemists\n",
    "=========================="
   ]
  },
  {
   "cell_type": "markdown",
   "metadata": {
    "slideshow": {
     "slide_type": "subslide"
    }
   },
   "source": [
    "Firstly we need to import sqlalchemy and begin creating our database:"
   ]
  },
  {
   "cell_type": "code",
   "execution_count": 1,
   "metadata": {
    "slideshow": {
     "slide_type": "fragment"
    }
   },
   "outputs": [],
   "source": [
    "import sqlalchemy\n",
    "\n",
    "# Connect to the database...\n",
    "from sqlalchemy import create_engine\n",
    "\n",
    "# We normally set echo=False, but here we want to see the sql we are produce later\n",
    "engine = create_engine('sqlite:///:memory:', echo=True)"
   ]
  },
  {
   "cell_type": "markdown",
   "metadata": {
    "slideshow": {
     "slide_type": "fragment"
    }
   },
   "source": [
    "**Note** that the string ``` 'sqlite:///:memory:' ``` sets the backend to sqlite and creates a database in memory. (RAM) \n",
    "\n",
    "This is useful for testing but we can change it to save to the harddisk later if we want our data to be permenant.\n",
    "\n",
    "To set this to a file, we can just replace `:memory:` with a file path i.e.:\n",
    "\n",
    "```python\n",
    "file_path = \"/home/users/john/my_super_secret_database.db\"\n",
    "engine = create_engine('sqlite:///'+file_path, echo=True)```"
   ]
  },
  {
   "cell_type": "markdown",
   "metadata": {
    "slideshow": {
     "slide_type": "slide"
    }
   },
   "source": [
    "### Creating Database-Backed Classes\n",
    "---"
   ]
  },
  {
   "cell_type": "markdown",
   "metadata": {
    "slideshow": {
     "slide_type": "subslide"
    }
   },
   "source": [
    "Our next step is to define our classes which will be mapped onto tables within our database. \n",
    "\n",
    "We do this by defining a class in the normal pythonic way but with some extra SQLAlchemy commands. \n",
    "\n",
    "SQLAlchemy will then use this class to define and create the relavent tables.  "
   ]
  },
  {
   "cell_type": "markdown",
   "metadata": {
    "slideshow": {
     "slide_type": "subslide"
    }
   },
   "source": [
    "In SQLAlchemy the ORM utilizes classes inheriting from the SQLAlchemy base class. "
   ]
  },
  {
   "cell_type": "markdown",
   "metadata": {
    "slideshow": {
     "slide_type": "fragment"
    }
   },
   "source": [
    "**Note:** ORMs (Object Relational Mapper) are classes which allow you to refer to data stored in your database from another language.\n",
    "\n",
    "Columns within a database table can usually only store scalar data (Ints, Strings etc.) an ORM allows you to map more complex datatypes onto these columns within your database. "
   ]
  },
  {
   "cell_type": "code",
   "execution_count": 2,
   "metadata": {
    "slideshow": {
     "slide_type": "fragment"
    }
   },
   "outputs": [],
   "source": [
    "from sqlalchemy.ext.declarative import declarative_base\n",
    "Base = declarative_base()"
   ]
  },
  {
   "cell_type": "markdown",
   "metadata": {
    "slideshow": {
     "slide_type": "subslide"
    }
   },
   "source": [
    "In our example we are going to create a database of molecules and structural motifs"
   ]
  },
  {
   "cell_type": "markdown",
   "metadata": {
    "slideshow": {
     "slide_type": "fragment"
    }
   },
   "source": [
    "Classes define RDBMS (Relational DataBase Management Scheme) table attributes:\n",
    "\n",
    "- We must define the `__tablename__` attribute\n",
    "- Then we define some `Column` attributes\n",
    ">- Columns have datatypes (Integer, Float, etc.)\n",
    ">- Columns have constraints (Primary Key, Foreign Key, etc.)"
   ]
  },
  {
   "cell_type": "code",
   "execution_count": 3,
   "metadata": {
    "slideshow": {
     "slide_type": "subslide"
    }
   },
   "outputs": [],
   "source": [
    "from sqlalchemy import Column, Integer, String, PickleType\n",
    "\n",
    "class Molecule(Base):\n",
    "    __tablename__ = 'molecules'\n",
    "    \n",
    "    id = Column(Integer, primary_key=True)\n",
    "    name = Column(String)\n",
    "    atoms = Column(PickleType)\n",
    "    # Defines to_string() representation \n",
    "    def __repr__(self):\n",
    "        return f\"<Molecule(name={self.name}, atoms={self.atoms}, id={self.id})>\""
   ]
  },
  {
   "cell_type": "markdown",
   "metadata": {
    "slideshow": {
     "slide_type": "subslide"
    }
   },
   "source": [
    "SQLAlchemy will now set up your table for you..."
   ]
  },
  {
   "cell_type": "code",
   "execution_count": 4,
   "metadata": {
    "slideshow": {
     "slide_type": "fragment"
    }
   },
   "outputs": [
    {
     "name": "stdout",
     "output_type": "stream",
     "text": [
      "2018-12-16 13:08:40,189 INFO sqlalchemy.engine.base.Engine SELECT CAST('test plain returns' AS VARCHAR(60)) AS anon_1\n",
      "2018-12-16 13:08:40,191 INFO sqlalchemy.engine.base.Engine ()\n",
      "2018-12-16 13:08:40,193 INFO sqlalchemy.engine.base.Engine SELECT CAST('test unicode returns' AS VARCHAR(60)) AS anon_1\n",
      "2018-12-16 13:08:40,195 INFO sqlalchemy.engine.base.Engine ()\n",
      "2018-12-16 13:08:40,197 INFO sqlalchemy.engine.base.Engine PRAGMA table_info(\"molecules\")\n",
      "2018-12-16 13:08:40,199 INFO sqlalchemy.engine.base.Engine ()\n",
      "2018-12-16 13:08:40,202 INFO sqlalchemy.engine.base.Engine \n",
      "CREATE TABLE molecules (\n",
      "\tid INTEGER NOT NULL, \n",
      "\tname VARCHAR, \n",
      "\tatoms BLOB, \n",
      "\tPRIMARY KEY (id)\n",
      ")\n",
      "\n",
      "\n",
      "2018-12-16 13:08:40,202 INFO sqlalchemy.engine.base.Engine ()\n",
      "2018-12-16 13:08:40,204 INFO sqlalchemy.engine.base.Engine COMMIT\n"
     ]
    }
   ],
   "source": [
    "Base.metadata.create_all(engine)"
   ]
  },
  {
   "cell_type": "markdown",
   "metadata": {
    "slideshow": {
     "slide_type": "subslide"
    }
   },
   "source": [
    "##### Issued SQL:\n",
    "\n",
    "```SQL\n",
    "CREATE TABLE molecules (\n",
    "\tid INTEGER NOT NULL, \n",
    "\tname VARCHAR, \n",
    "\tatoms BLOB, \n",
    "\tPRIMARY KEY (id)\n",
    ")\n",
    "```"
   ]
  },
  {
   "cell_type": "markdown",
   "metadata": {
    "slideshow": {
     "slide_type": "fragment"
    }
   },
   "source": [
    "This SQL will look familiar to those of you that have interacted with SQL databases by hand\n",
    "\n",
    "This instructs the database to create a new table with columns:\n",
    "- `id`    -- an integer that cannot have no value (`NOT NULL`)\n",
    "- `name`  -- a character array (i.e. a string) \n",
    "- `atoms` -- a binary blob, i.e. some arbitary data. \n",
    "\n",
    "It also sets the `id` column up as the primary key for this table.\n",
    "- So this table will be indexed by the `id` column"
   ]
  },
  {
   "cell_type": "markdown",
   "metadata": {
    "slideshow": {
     "slide_type": "slide"
    }
   },
   "source": [
    "### Creating a Session\n",
    "\n",
    "---"
   ]
  },
  {
   "cell_type": "code",
   "execution_count": 5,
   "metadata": {
    "slideshow": {
     "slide_type": "subslide"
    }
   },
   "outputs": [],
   "source": [
    "from sqlalchemy.orm import sessionmaker\n",
    "Session = sessionmaker(bind=engine)\n",
    "session = Session()"
   ]
  },
  {
   "cell_type": "markdown",
   "metadata": {
    "slideshow": {
     "slide_type": "fragment"
    }
   },
   "source": [
    "The `session` object is created by the `sqlalchemy.orm.sessionmaker` class and bound to our database's engine. \n",
    "\n",
    "This `session` is our interface to the database. \n",
    "- We use this to add/remove/fetch items from the database. \n",
    "\n",
    "We will see this in action in the next section."
   ]
  },
  {
   "cell_type": "markdown",
   "metadata": {
    "slideshow": {
     "slide_type": "slide"
    }
   },
   "source": [
    "### Adding, Updating and Commiting Objects\n",
    "---"
   ]
  },
  {
   "cell_type": "markdown",
   "metadata": {
    "slideshow": {
     "slide_type": "subslide"
    }
   },
   "source": [
    "Once you have your tables created you can then start creating objects and mapping them onto the database."
   ]
  },
  {
   "cell_type": "code",
   "execution_count": 6,
   "metadata": {
    "slideshow": {
     "slide_type": "fragment"
    }
   },
   "outputs": [
    {
     "name": "stdout",
     "output_type": "stream",
     "text": [
      "<Molecule(name=phenol, atoms=['C', 'C', 'C', 'C', 'C', 'C', 'H', 'H', 'H', 'H', 'H', 'O', 'H'], id=None)>\n"
     ]
    }
   ],
   "source": [
    "phenol = Molecule(name=\"phenol\", atoms=[\"C\", \"C\", \"C\", \"C\", \"C\", \"C\", \"H\", \"H\", \"H\", \"H\", \"H\", \"O\", \"H\"])\n",
    "session.add(phenol)\n",
    "print(phenol)"
   ]
  },
  {
   "cell_type": "markdown",
   "metadata": {
    "slideshow": {
     "slide_type": "fragment"
    }
   },
   "source": [
    "**Note:** No SQL has been printed here and `id=None` because we have not yet committed this object to the database"
   ]
  },
  {
   "cell_type": "markdown",
   "metadata": {
    "slideshow": {
     "slide_type": "subslide"
    }
   },
   "source": [
    "There are a couple of ways to commit your new object to the database:\n",
    "\n",
    "- Call the `session.commit()` method, or;\n",
    "- When you do a query SQLAlchemy, your uncommited changes are flushed to the db (within a transaction). SQLAlchemy then requeries the database in order to gain the value of the objects primary key column."
   ]
  },
  {
   "cell_type": "code",
   "execution_count": 7,
   "metadata": {
    "slideshow": {
     "slide_type": "fragment"
    }
   },
   "outputs": [
    {
     "name": "stdout",
     "output_type": "stream",
     "text": [
      "2018-12-16 13:08:40,232 INFO sqlalchemy.engine.base.Engine BEGIN (implicit)\n",
      "2018-12-16 13:08:40,234 INFO sqlalchemy.engine.base.Engine INSERT INTO molecules (name, atoms) VALUES (?, ?)\n",
      "2018-12-16 13:08:40,235 INFO sqlalchemy.engine.base.Engine ('phenol', <memory at 0x7f43f05f8408>)\n",
      "2018-12-16 13:08:40,238 INFO sqlalchemy.engine.base.Engine SELECT molecules.id AS molecules_id, molecules.name AS molecules_name, molecules.atoms AS molecules_atoms \n",
      "FROM molecules \n",
      "WHERE molecules.name = ?\n",
      " LIMIT ? OFFSET ?\n",
      "2018-12-16 13:08:40,239 INFO sqlalchemy.engine.base.Engine ('phenol', 1, 0)\n"
     ]
    }
   ],
   "source": [
    "our_molecule = session.query(Molecule).filter_by(name='phenol').first()"
   ]
  },
  {
   "cell_type": "markdown",
   "metadata": {
    "slideshow": {
     "slide_type": "subslide"
    }
   },
   "source": [
    "##### Issued SQL:\n",
    "\n",
    "*Insert (Flush)*\n",
    "\n",
    "```SQL\n",
    "INSERT INTO molecules (name, atoms) VALUES ('phenol', <memory at 0x7effc62f4408>)\n",
    "```\n",
    "\n",
    "*Query Select*\n",
    "\n",
    "```SQL\n",
    "SELECT molecules.id AS molecules_id, \n",
    "        molecules.name AS molecules_name, \n",
    "        molecules.atoms AS molecules_atoms \n",
    "FROM molecules \n",
    "WHERE molecules.name = 'phenol'\n",
    " LIMIT 1 OFFSET 0```"
   ]
  },
  {
   "cell_type": "markdown",
   "metadata": {
    "collapsed": true,
    "slideshow": {
     "slide_type": "subslide"
    }
   },
   "source": [
    "Since both of `phenol` and `our_molecule` have the same primary key they are mapped to the same object."
   ]
  },
  {
   "cell_type": "code",
   "execution_count": 8,
   "metadata": {
    "slideshow": {
     "slide_type": "fragment"
    }
   },
   "outputs": [
    {
     "name": "stdout",
     "output_type": "stream",
     "text": [
      "phenol = <Molecule(name=phenol, atoms=['C', 'C', 'C', 'C', 'C', 'C', 'H', 'H', 'H', 'H', 'H', 'O', 'H'], id=1)>\n",
      "our_molecule = <Molecule(name=phenol, atoms=['C', 'C', 'C', 'C', 'C', 'C', 'H', 'H', 'H', 'H', 'H', 'O', 'H'], id=1)>\n",
      "True\n"
     ]
    }
   ],
   "source": [
    "print(f\"phenol = {phenol}\")\n",
    "print(f\"our_molecule = {our_molecule}\")\n",
    "\n",
    "print(phenol is our_molecule)"
   ]
  },
  {
   "cell_type": "markdown",
   "metadata": {
    "collapsed": true,
    "slideshow": {
     "slide_type": "subslide"
    }
   },
   "source": [
    "Multiple objects can be added to the session and objects can be modified."
   ]
  },
  {
   "cell_type": "code",
   "execution_count": 9,
   "metadata": {
    "slideshow": {
     "slide_type": "fragment"
    }
   },
   "outputs": [],
   "source": [
    "session.add_all([\n",
    "        Molecule(name=\"water\", atoms=[\"O\", \"H\", \"H\"]),\n",
    "        Molecule(name=\"CO2\", atoms=[\"O\", \"O\", \"C\"]),\n",
    "        Molecule(name=\"benzene\", atoms=['C', 'C', 'C', 'C', 'C', 'C', 'H', 'H', 'H', 'H', 'H', 'H']),])\n",
    "\n",
    "# We can modify the name if we decide that we want the systematic name instead\n",
    "phenol.name = \"Cyclohexa-1,3,5-trienol\"  "
   ]
  },
  {
   "cell_type": "markdown",
   "metadata": {
    "collapsed": true,
    "slideshow": {
     "slide_type": "subslide"
    }
   },
   "source": [
    "Finally, the transaction can be commited. The remaining changes are flushed to the database."
   ]
  },
  {
   "cell_type": "code",
   "execution_count": 10,
   "metadata": {
    "slideshow": {
     "slide_type": "fragment"
    }
   },
   "outputs": [
    {
     "name": "stdout",
     "output_type": "stream",
     "text": [
      "2018-12-16 13:08:40,265 INFO sqlalchemy.engine.base.Engine UPDATE molecules SET name=? WHERE molecules.id = ?\n",
      "2018-12-16 13:08:40,266 INFO sqlalchemy.engine.base.Engine ('Cyclohexa-1,3,5-trienol', 1)\n",
      "2018-12-16 13:08:40,267 INFO sqlalchemy.engine.base.Engine INSERT INTO molecules (name, atoms) VALUES (?, ?)\n",
      "2018-12-16 13:08:40,267 INFO sqlalchemy.engine.base.Engine ('water', <memory at 0x7f43f05f8408>)\n",
      "2018-12-16 13:08:40,268 INFO sqlalchemy.engine.base.Engine INSERT INTO molecules (name, atoms) VALUES (?, ?)\n",
      "2018-12-16 13:08:40,270 INFO sqlalchemy.engine.base.Engine ('CO2', <memory at 0x7f43f05f8588>)\n",
      "2018-12-16 13:08:40,270 INFO sqlalchemy.engine.base.Engine INSERT INTO molecules (name, atoms) VALUES (?, ?)\n",
      "2018-12-16 13:08:40,271 INFO sqlalchemy.engine.base.Engine ('benzene', <memory at 0x7f43f05f8408>)\n",
      "2018-12-16 13:08:40,272 INFO sqlalchemy.engine.base.Engine COMMIT\n"
     ]
    }
   ],
   "source": [
    "session.commit()"
   ]
  },
  {
   "cell_type": "markdown",
   "metadata": {
    "slideshow": {
     "slide_type": "subslide"
    }
   },
   "source": [
    "##### Issued SQL:\n",
    "\n",
    "*Flush remaining changes (inserts and updates)*\n",
    "\n",
    "```SQL\n",
    "UPDATE molecules SET name='Cyclohexa-1,3,5-trienol' WHERE molecules.id = 1\n",
    "\n",
    "INSERT INTO molecules (name, atoms) VALUES ('water', <memory at 0x7fefdf101408>)\n",
    "INSERT INTO molecules (name, atoms) VALUES ('CO2', <memory at 0x7fefdf101588>)\n",
    "INSERT INTO molecules (name, atoms) VALUES ('benzene', <memory at 0x7fefdf101408>)\n",
    "```\n",
    "\n",
    "*Finally, commit the changes*\n",
    "\n",
    "```SQL\n",
    "COMMIT\n",
    "```"
   ]
  },
  {
   "cell_type": "markdown",
   "metadata": {
    "slideshow": {
     "slide_type": "slide"
    }
   },
   "source": [
    "### Rolling Back\n",
    "---"
   ]
  },
  {
   "cell_type": "markdown",
   "metadata": {
    "slideshow": {
     "slide_type": "subslide"
    }
   },
   "source": [
    "In SQLAlchemy all database operations are performed within a transaction. \n",
    "\n",
    "For example we can edit and query for objects:"
   ]
  },
  {
   "cell_type": "code",
   "execution_count": 11,
   "metadata": {
    "slideshow": {
     "slide_type": "subslide"
    }
   },
   "outputs": [
    {
     "name": "stdout",
     "output_type": "stream",
     "text": [
      "2018-12-16 13:08:40,279 INFO sqlalchemy.engine.base.Engine BEGIN (implicit)\n",
      "2018-12-16 13:08:40,282 INFO sqlalchemy.engine.base.Engine SELECT molecules.id AS molecules_id, molecules.atoms AS molecules_atoms \n",
      "FROM molecules \n",
      "WHERE molecules.id = ?\n",
      "2018-12-16 13:08:40,283 INFO sqlalchemy.engine.base.Engine (1,)\n",
      "2018-12-16 13:08:40,284 INFO sqlalchemy.engine.base.Engine UPDATE molecules SET name=? WHERE molecules.id = ?\n",
      "2018-12-16 13:08:40,300 INFO sqlalchemy.engine.base.Engine ('Phenol', 1)\n",
      "2018-12-16 13:08:40,302 INFO sqlalchemy.engine.base.Engine INSERT INTO molecules (name, atoms) VALUES (?, ?)\n",
      "2018-12-16 13:08:40,303 INFO sqlalchemy.engine.base.Engine ('fakemol', <memory at 0x7f43f05f8408>)\n",
      "2018-12-16 13:08:40,306 INFO sqlalchemy.engine.base.Engine SELECT molecules.id AS molecules_id, molecules.name AS molecules_name, molecules.atoms AS molecules_atoms \n",
      "FROM molecules \n",
      "WHERE molecules.name IN (?, ?)\n",
      "2018-12-16 13:08:40,306 INFO sqlalchemy.engine.base.Engine ('Phenol', 'fakemol')\n"
     ]
    },
    {
     "data": {
      "text/plain": [
       "[<Molecule(name=Phenol, atoms=['C', 'C', 'C', 'C', 'C', 'C', 'H', 'H', 'H', 'H', 'H', 'O', 'H'], id=1)>,\n",
       " <Molecule(name=fakemol, atoms=['F', 'Al', 'Se'], id=5)>]"
      ]
     },
     "execution_count": 11,
     "metadata": {},
     "output_type": "execute_result"
    }
   ],
   "source": [
    "phenol.name = 'Phenol'\n",
    "\n",
    "fake_molecule = Molecule(name='fakemol', atoms=[\"F\", \"Al\", \"Se\"])\n",
    "session.add(fake_molecule)\n",
    "\n",
    "session.query(Molecule).filter(Molecule.name.in_(['Phenol', 'fakemol'])).all()"
   ]
  },
  {
   "cell_type": "markdown",
   "metadata": {
    "slideshow": {
     "slide_type": "subslide"
    }
   },
   "source": [
    "We can do a rollback and our changes are reset."
   ]
  },
  {
   "cell_type": "code",
   "execution_count": 12,
   "metadata": {
    "slideshow": {
     "slide_type": "fragment"
    }
   },
   "outputs": [
    {
     "name": "stdout",
     "output_type": "stream",
     "text": [
      "2018-12-16 13:08:40,321 INFO sqlalchemy.engine.base.Engine ROLLBACK\n"
     ]
    }
   ],
   "source": [
    "session.rollback()"
   ]
  },
  {
   "cell_type": "markdown",
   "metadata": {
    "slideshow": {
     "slide_type": "fragment"
    }
   },
   "source": [
    "##### Issued SQL:\n",
    "\n",
    "```SQL\n",
    "ROLLBACK\n",
    "```"
   ]
  },
  {
   "cell_type": "markdown",
   "metadata": {
    "slideshow": {
     "slide_type": "subslide"
    }
   },
   "source": [
    "Our objects are reset to their pervious states and our uncommited objects are removed."
   ]
  },
  {
   "cell_type": "code",
   "execution_count": 13,
   "metadata": {
    "slideshow": {
     "slide_type": "fragment"
    }
   },
   "outputs": [
    {
     "name": "stdout",
     "output_type": "stream",
     "text": [
      "2018-12-16 13:08:40,331 INFO sqlalchemy.engine.base.Engine BEGIN (implicit)\n",
      "2018-12-16 13:08:40,332 INFO sqlalchemy.engine.base.Engine SELECT molecules.id AS molecules_id, molecules.name AS molecules_name, molecules.atoms AS molecules_atoms \n",
      "FROM molecules \n",
      "WHERE molecules.id = ?\n",
      "2018-12-16 13:08:40,333 INFO sqlalchemy.engine.base.Engine (1,)\n"
     ]
    },
    {
     "data": {
      "text/plain": [
       "'Cyclohexa-1,3,5-trienol'"
      ]
     },
     "execution_count": 13,
     "metadata": {},
     "output_type": "execute_result"
    }
   ],
   "source": [
    "phenol.name"
   ]
  },
  {
   "cell_type": "code",
   "execution_count": 14,
   "metadata": {
    "slideshow": {
     "slide_type": "fragment"
    }
   },
   "outputs": [
    {
     "data": {
      "text/plain": [
       "False"
      ]
     },
     "execution_count": 14,
     "metadata": {},
     "output_type": "execute_result"
    }
   ],
   "source": [
    "fake_molecule in session"
   ]
  },
  {
   "cell_type": "markdown",
   "metadata": {
    "slideshow": {
     "slide_type": "fragment"
    }
   },
   "source": [
    "So our fake molecule is no longer part of our database session"
   ]
  },
  {
   "cell_type": "markdown",
   "metadata": {
    "slideshow": {
     "slide_type": "slide"
    }
   },
   "source": [
    "### Querying\n",
    "---"
   ]
  },
  {
   "cell_type": "markdown",
   "metadata": {
    "slideshow": {
     "slide_type": "subslide"
    }
   },
   "source": [
    "We can query our database for objects in the `Molecules` table and sort them"
   ]
  },
  {
   "cell_type": "code",
   "execution_count": 15,
   "metadata": {
    "slideshow": {
     "slide_type": "fragment"
    }
   },
   "outputs": [
    {
     "name": "stdout",
     "output_type": "stream",
     "text": [
      "2018-12-16 13:08:40,352 INFO sqlalchemy.engine.base.Engine SELECT molecules.id AS molecules_id, molecules.name AS molecules_name, molecules.atoms AS molecules_atoms \n",
      "FROM molecules ORDER BY molecules.id\n",
      "2018-12-16 13:08:40,353 INFO sqlalchemy.engine.base.Engine ()\n",
      "<Molecule(name=Cyclohexa-1,3,5-trienol, atoms=['C', 'C', 'C', 'C', 'C', 'C', 'H', 'H', 'H', 'H', 'H', 'O', 'H'], id=1)>\n",
      "<Molecule(name=water, atoms=['O', 'H', 'H'], id=2)>\n",
      "<Molecule(name=CO2, atoms=['O', 'O', 'C'], id=3)>\n",
      "<Molecule(name=benzene, atoms=['C', 'C', 'C', 'C', 'C', 'C', 'H', 'H', 'H', 'H', 'H', 'H'], id=4)>\n"
     ]
    }
   ],
   "source": [
    "for instance in session.query(Molecule).order_by(Molecule.id):\n",
    "    print(instance)"
   ]
  },
  {
   "cell_type": "markdown",
   "metadata": {
    "slideshow": {
     "slide_type": "subslide"
    }
   },
   "source": [
    "##### Issued SQL:\n",
    "\n",
    "```SQL\n",
    "SELECT molecules.id AS molecules_id, \n",
    "        molecules.name AS molecules_name, \n",
    "        molecules.atoms AS molecules_atoms \n",
    "FROM molecules ORDER BY molecules.id\n",
    "```"
   ]
  },
  {
   "cell_type": "markdown",
   "metadata": {
    "slideshow": {
     "slide_type": "fragment"
    }
   },
   "source": [
    "**Note:** This returns all the information associated with each Molecule object."
   ]
  },
  {
   "cell_type": "markdown",
   "metadata": {
    "slideshow": {
     "slide_type": "subslide"
    }
   },
   "source": [
    "Sometimes we only want to get certain information from each row:"
   ]
  },
  {
   "cell_type": "code",
   "execution_count": 16,
   "metadata": {
    "slideshow": {
     "slide_type": "fragment"
    }
   },
   "outputs": [
    {
     "name": "stdout",
     "output_type": "stream",
     "text": [
      "2018-12-16 13:08:40,362 INFO sqlalchemy.engine.base.Engine SELECT molecules.name AS molecules_name, molecules.atoms AS molecules_atoms \n",
      "FROM molecules\n",
      "2018-12-16 13:08:40,363 INFO sqlalchemy.engine.base.Engine ()\n",
      "Cyclohexa-1,3,5-trienol ['C', 'C', 'C', 'C', 'C', 'C', 'H', 'H', 'H', 'H', 'H', 'O', 'H']\n",
      "water ['O', 'H', 'H']\n",
      "CO2 ['O', 'O', 'C']\n",
      "benzene ['C', 'C', 'C', 'C', 'C', 'C', 'H', 'H', 'H', 'H', 'H', 'H']\n"
     ]
    }
   ],
   "source": [
    "for name, atoms in session.query(Molecule.name, Molecule.atoms):\n",
    "    print(name, atoms)"
   ]
  },
  {
   "cell_type": "markdown",
   "metadata": {
    "slideshow": {
     "slide_type": "fragment"
    }
   },
   "source": [
    "##### Issued SQL:\n",
    "\n",
    "```SQL\n",
    "SELECT molecules.name AS molecules_name, \n",
    "        molecules.atoms AS molecules_atoms \n",
    "FROM molecules\n",
    "```"
   ]
  },
  {
   "cell_type": "markdown",
   "metadata": {
    "slideshow": {
     "slide_type": "slide"
    }
   },
   "source": [
    "### Common Filtering Operators"
   ]
  },
  {
   "cell_type": "markdown",
   "metadata": {
    "slideshow": {
     "slide_type": "subslide"
    }
   },
   "source": [
    "We can filter our query so that we only select some of the data\n",
    "\n",
    "Here’s an overview of some common operators used by the `filter()` fucntion:\n",
    "- equals\n",
    "- not equals\n",
    "- like\n",
    "- in\n",
    "- not in\n",
    "- and\n",
    "- or"
   ]
  },
  {
   "cell_type": "markdown",
   "metadata": {
    "slideshow": {
     "slide_type": "subslide"
    }
   },
   "source": [
    "#### equals:"
   ]
  },
  {
   "cell_type": "code",
   "execution_count": 17,
   "metadata": {
    "slideshow": {
     "slide_type": "fragment"
    }
   },
   "outputs": [
    {
     "name": "stdout",
     "output_type": "stream",
     "text": [
      "2018-12-16 13:08:40,372 INFO sqlalchemy.engine.base.Engine SELECT molecules.id AS molecules_id, molecules.name AS molecules_name, molecules.atoms AS molecules_atoms \n",
      "FROM molecules \n",
      "WHERE molecules.name = ?\n",
      "2018-12-16 13:08:40,373 INFO sqlalchemy.engine.base.Engine ('water',)\n",
      "<Molecule(name=water, atoms=['O', 'H', 'H'], id=2)>\n"
     ]
    }
   ],
   "source": [
    "for molecule in session.query(Molecule).filter(Molecule.name == 'water'):\n",
    "    print(molecule)"
   ]
  },
  {
   "cell_type": "markdown",
   "metadata": {
    "slideshow": {
     "slide_type": "subslide"
    }
   },
   "source": [
    "#### not equals:"
   ]
  },
  {
   "cell_type": "code",
   "execution_count": 18,
   "metadata": {
    "slideshow": {
     "slide_type": "fragment"
    }
   },
   "outputs": [
    {
     "name": "stdout",
     "output_type": "stream",
     "text": [
      "2018-12-16 13:08:40,387 INFO sqlalchemy.engine.base.Engine SELECT molecules.id AS molecules_id, molecules.name AS molecules_name, molecules.atoms AS molecules_atoms \n",
      "FROM molecules \n",
      "WHERE molecules.name != ?\n",
      "2018-12-16 13:08:40,391 INFO sqlalchemy.engine.base.Engine ('water',)\n",
      "<Molecule(name=Cyclohexa-1,3,5-trienol, atoms=['C', 'C', 'C', 'C', 'C', 'C', 'H', 'H', 'H', 'H', 'H', 'O', 'H'], id=1)>\n",
      "<Molecule(name=CO2, atoms=['O', 'O', 'C'], id=3)>\n",
      "<Molecule(name=benzene, atoms=['C', 'C', 'C', 'C', 'C', 'C', 'H', 'H', 'H', 'H', 'H', 'H'], id=4)>\n"
     ]
    }
   ],
   "source": [
    "for molecule in session.query(Molecule).filter(Molecule.name != 'water'):\n",
    "    print(molecule)"
   ]
  },
  {
   "cell_type": "markdown",
   "metadata": {
    "slideshow": {
     "slide_type": "subslide"
    }
   },
   "source": [
    "#### LIKE:"
   ]
  },
  {
   "cell_type": "code",
   "execution_count": 19,
   "metadata": {
    "slideshow": {
     "slide_type": "fragment"
    }
   },
   "outputs": [
    {
     "name": "stdout",
     "output_type": "stream",
     "text": [
      "2018-12-16 13:08:40,403 INFO sqlalchemy.engine.base.Engine SELECT molecules.id AS molecules_id, molecules.name AS molecules_name, molecules.atoms AS molecules_atoms \n",
      "FROM molecules \n",
      "WHERE molecules.name LIKE ?\n",
      "2018-12-16 13:08:40,404 INFO sqlalchemy.engine.base.Engine ('wat%',)\n",
      "<Molecule(name=water, atoms=['O', 'H', 'H'], id=2)>\n"
     ]
    }
   ],
   "source": [
    "# everything that matches wat*\n",
    "for molecule in session.query(Molecule).filter(Molecule.name.like('wat%')):\n",
    "    print(molecule)   "
   ]
  },
  {
   "cell_type": "code",
   "execution_count": 20,
   "metadata": {
    "slideshow": {
     "slide_type": "fragment"
    }
   },
   "outputs": [
    {
     "name": "stdout",
     "output_type": "stream",
     "text": [
      "2018-12-16 13:08:40,413 INFO sqlalchemy.engine.base.Engine SELECT molecules.id AS molecules_id, molecules.name AS molecules_name, molecules.atoms AS molecules_atoms \n",
      "FROM molecules \n",
      "WHERE molecules.name LIKE ?\n",
      "2018-12-16 13:08:40,414 INFO sqlalchemy.engine.base.Engine ('%o%',)\n",
      "<Molecule(name=Cyclohexa-1,3,5-trienol, atoms=['C', 'C', 'C', 'C', 'C', 'C', 'H', 'H', 'H', 'H', 'H', 'O', 'H'], id=1)>\n",
      "<Molecule(name=CO2, atoms=['O', 'O', 'C'], id=3)>\n"
     ]
    }
   ],
   "source": [
    "# everything with an \"o\" in the name:\n",
    "for molecule in session.query(Molecule).filter(Molecule.name.like('%o%')):\n",
    "    print(molecule)"
   ]
  },
  {
   "cell_type": "markdown",
   "metadata": {
    "slideshow": {
     "slide_type": "subslide"
    }
   },
   "source": [
    "#### IN:"
   ]
  },
  {
   "cell_type": "code",
   "execution_count": 21,
   "metadata": {
    "slideshow": {
     "slide_type": "fragment"
    }
   },
   "outputs": [
    {
     "name": "stdout",
     "output_type": "stream",
     "text": [
      "2018-12-16 13:08:40,426 INFO sqlalchemy.engine.base.Engine SELECT molecules.id AS molecules_id, molecules.name AS molecules_name, molecules.atoms AS molecules_atoms \n",
      "FROM molecules \n",
      "WHERE molecules.name IN (?, ?)\n",
      "2018-12-16 13:08:40,427 INFO sqlalchemy.engine.base.Engine ('Cyclohexa-1,3,5-trienol', 'water')\n",
      "<Molecule(name=Cyclohexa-1,3,5-trienol, atoms=['C', 'C', 'C', 'C', 'C', 'C', 'H', 'H', 'H', 'H', 'H', 'O', 'H'], id=1)>\n",
      "<Molecule(name=water, atoms=['O', 'H', 'H'], id=2)>\n"
     ]
    }
   ],
   "source": [
    "for molecule in session.query(Molecule).filter(Molecule.name.in_(['Cyclohexa-1,3,5-trienol',\n",
    "                                                                 'water'])):\n",
    "    print(molecule)"
   ]
  },
  {
   "cell_type": "markdown",
   "metadata": {
    "slideshow": {
     "slide_type": "subslide"
    }
   },
   "source": [
    "#### NOT IN:"
   ]
  },
  {
   "cell_type": "code",
   "execution_count": 22,
   "metadata": {
    "slideshow": {
     "slide_type": "fragment"
    }
   },
   "outputs": [
    {
     "name": "stdout",
     "output_type": "stream",
     "text": [
      "2018-12-16 13:08:40,437 INFO sqlalchemy.engine.base.Engine SELECT molecules.id AS molecules_id, molecules.name AS molecules_name, molecules.atoms AS molecules_atoms \n",
      "FROM molecules \n",
      "WHERE molecules.name NOT IN (?, ?)\n",
      "2018-12-16 13:08:40,438 INFO sqlalchemy.engine.base.Engine ('Cyclohexa-1,3,5-trienol', 'water')\n",
      "<Molecule(name=CO2, atoms=['O', 'O', 'C'], id=3)>\n",
      "<Molecule(name=benzene, atoms=['C', 'C', 'C', 'C', 'C', 'C', 'H', 'H', 'H', 'H', 'H', 'H'], id=4)>\n"
     ]
    }
   ],
   "source": [
    "# use \"tilda~\" for NOT IN\n",
    "for molecule in session.query(Molecule).filter(~Molecule.name.in_(['Cyclohexa-1,3,5-trienol',\n",
    "                                                                 'water'])):\n",
    "    print(molecule)"
   ]
  },
  {
   "cell_type": "markdown",
   "metadata": {
    "slideshow": {
     "slide_type": "subslide"
    }
   },
   "source": [
    "#### AND:"
   ]
  },
  {
   "cell_type": "code",
   "execution_count": 23,
   "metadata": {
    "slideshow": {
     "slide_type": "fragment"
    }
   },
   "outputs": [
    {
     "name": "stdout",
     "output_type": "stream",
     "text": [
      "2018-12-16 13:08:40,448 INFO sqlalchemy.engine.base.Engine SELECT molecules.id AS molecules_id, molecules.name AS molecules_name, molecules.atoms AS molecules_atoms \n",
      "FROM molecules \n",
      "WHERE molecules.name IN (?, ?) AND molecules.atoms = ?\n",
      "2018-12-16 13:08:40,449 INFO sqlalchemy.engine.base.Engine ('Cyclohexa-1,3,5-trienol', 'water', <memory at 0x7f43f05f8588>)\n",
      "<Molecule(name=water, atoms=['O', 'H', 'H'], id=2)>\n"
     ]
    }
   ],
   "source": [
    "for molecule in session.query(Molecule).filter(Molecule.name.in_(['Cyclohexa-1,3,5-trienol',\n",
    "                                                                 'water']),\n",
    "                                              Molecule.atoms == [\"O\", \"H\", \"H\"]):\n",
    "    print(molecule)"
   ]
  },
  {
   "cell_type": "markdown",
   "metadata": {
    "slideshow": {
     "slide_type": "subslide"
    }
   },
   "source": [
    "#### OR:"
   ]
  },
  {
   "cell_type": "code",
   "execution_count": 24,
   "metadata": {
    "slideshow": {
     "slide_type": "fragment"
    }
   },
   "outputs": [
    {
     "name": "stdout",
     "output_type": "stream",
     "text": [
      "2018-12-16 13:08:40,468 INFO sqlalchemy.engine.base.Engine SELECT molecules.id AS molecules_id, molecules.name AS molecules_name, molecules.atoms AS molecules_atoms \n",
      "FROM molecules \n",
      "WHERE molecules.name = ? OR molecules.id >= ?\n",
      "2018-12-16 13:08:40,470 INFO sqlalchemy.engine.base.Engine ('water', 4)\n",
      "<Molecule(name=water, atoms=['O', 'H', 'H'], id=2)>\n",
      "<Molecule(name=benzene, atoms=['C', 'C', 'C', 'C', 'C', 'C', 'H', 'H', 'H', 'H', 'H', 'H'], id=4)>\n"
     ]
    }
   ],
   "source": [
    "from sqlalchemy import or_\n",
    "for molecule in session.query(Molecule).filter(or_(Molecule.name == \"water\", Molecule.id >= 4)):\n",
    "    print(molecule)"
   ]
  },
  {
   "cell_type": "markdown",
   "metadata": {
    "slideshow": {
     "slide_type": "slide"
    }
   },
   "source": [
    "### Relationships\n",
    "---"
   ]
  },
  {
   "cell_type": "markdown",
   "metadata": {
    "slideshow": {
     "slide_type": "fragment"
    }
   },
   "source": [
    "This is where the real magic starts! "
   ]
  },
  {
   "cell_type": "markdown",
   "metadata": {
    "slideshow": {
     "slide_type": "fragment"
    }
   },
   "source": [
    "Multiple classes can be created and linked together using class relations."
   ]
  },
  {
   "cell_type": "markdown",
   "metadata": {
    "slideshow": {
     "slide_type": "fragment"
    }
   },
   "source": [
    "### Many to Many: \n",
    "\n",
    "We can link one motif to many molecules and vice versa: "
   ]
  },
  {
   "cell_type": "code",
   "execution_count": 25,
   "metadata": {
    "slideshow": {
     "slide_type": "skip"
    }
   },
   "outputs": [],
   "source": [
    "import sqlalchemy\n",
    "\n",
    "# Connect to the database...\n",
    "from sqlalchemy import create_engine\n",
    "\n",
    "# We normally set echo=False, but here we want to see the sql we are produce later\n",
    "engine = create_engine('sqlite:///:memory:', echo=False)\n",
    "\n",
    "from sqlalchemy import Column, Integer, String, PickleType\n",
    "from sqlalchemy import ForeignKey, Table\n",
    "\n",
    "from sqlalchemy.orm import relationship, backref\n",
    "\n",
    "from sqlalchemy.ext.declarative import declarative_base\n",
    "Base = declarative_base()"
   ]
  },
  {
   "cell_type": "markdown",
   "metadata": {
    "slideshow": {
     "slide_type": "subslide"
    }
   },
   "source": [
    "We create our database tables as normal, with the addition that we define relationships for each one, pointing at the other: "
   ]
  },
  {
   "cell_type": "code",
   "execution_count": 26,
   "metadata": {
    "slideshow": {
     "slide_type": "fragment"
    }
   },
   "outputs": [],
   "source": [
    "class Molecule(Base):\n",
    "    __tablename__ = 'molecules'\n",
    "\n",
    "    id = Column(Integer, primary_key=True)\n",
    "    name = Column(String(255))\n",
    "    atoms = Column(PickleType)\n",
    "\n",
    "    # ... any other fields\n",
    "\n",
    "    functional_groups = relationship(\"Motif\", secondary=\"mol_motif_assoc\")\n",
    "\n",
    "class Motif(Base):\n",
    "    __tablename__ = 'motifs'\n",
    "\n",
    "    id = Column(Integer, primary_key=True)\n",
    "    name = Column(String(255))\n",
    "    atoms = Column(PickleType)\n",
    "\n",
    "    appears_in = relationship(\"Molecule\", secondary=\"mol_motif_assoc\")"
   ]
  },
  {
   "cell_type": "markdown",
   "metadata": {
    "slideshow": {
     "slide_type": "subslide"
    }
   },
   "source": [
    "Here we must create an intermediate table which has columns containing the foreign keys of the two tables to be joined as well as relationships with both tables to be linked:"
   ]
  },
  {
   "cell_type": "code",
   "execution_count": 27,
   "metadata": {
    "slideshow": {
     "slide_type": "fragment"
    }
   },
   "outputs": [],
   "source": [
    "class MolMotifAssoc(Base):\n",
    "    __tablename__ = 'mol_motif_assoc'\n",
    "    \n",
    "    id = Column(Integer, primary_key=True)\n",
    "    \n",
    "    molecule_id = Column(Integer, ForeignKey('molecules.id'))\n",
    "    funtional_group_id = Column(Integer, ForeignKey('motifs.id'))\n",
    "\n",
    "    molecule = relationship(\n",
    "        Molecule, \n",
    "        backref=backref(\n",
    "            \"mol_motif_assoc\", \n",
    "            cascade=\"all, delete-orphan\"\n",
    "        ))\n",
    "    \n",
    "    motif = relationship(\n",
    "        Motif, \n",
    "        backref=backref(\n",
    "            \"mol_motif_assoc\", \n",
    "            cascade=\"all, delete-orphan\"\n",
    "        ))"
   ]
  },
  {
   "cell_type": "code",
   "execution_count": 28,
   "metadata": {
    "slideshow": {
     "slide_type": "subslide"
    }
   },
   "outputs": [],
   "source": [
    "Base.metadata.create_all(engine)"
   ]
  },
  {
   "cell_type": "markdown",
   "metadata": {
    "slideshow": {
     "slide_type": "fragment"
    }
   },
   "source": [
    "##### Issued SQL:\n",
    "\n",
    "```SQL\n",
    "\n",
    "PRAGMA table_info(\"molecules\")\n",
    "\n",
    "PRAGMA table_info(\"motifs\")\n",
    "\n",
    "PRAGMA table_info(\"mol_motif_assoc\")\n",
    "\n",
    "CREATE TABLE molecules (\n",
    "\tid INTEGER NOT NULL, \n",
    "\tname VARCHAR(255), \n",
    "\tatoms BLOB, \n",
    "\tPRIMARY KEY (id)\n",
    ")\n",
    "\n",
    "CREATE TABLE motifs (\n",
    "\tid INTEGER NOT NULL, \n",
    "\tname VARCHAR(255), \n",
    "\tatoms BLOB, \n",
    "\tPRIMARY KEY (id)\n",
    ")\n",
    "\n",
    "CREATE TABLE mol_motif_assoc (\n",
    "\tid INTEGER NOT NULL, \n",
    "\tmolecule_id INTEGER, \n",
    "\tfuntional_group_id INTEGER, \n",
    "\tPRIMARY KEY (id), \n",
    "\tFOREIGN KEY(molecule_id) REFERENCES molecules (id), \n",
    "\tFOREIGN KEY(funtional_group_id) REFERENCES motifs (id)\n",
    ")\n",
    "\n",
    "COMMIT\n",
    "```"
   ]
  },
  {
   "cell_type": "code",
   "execution_count": 29,
   "metadata": {
    "slideshow": {
     "slide_type": "skip"
    }
   },
   "outputs": [],
   "source": [
    "from sqlalchemy.orm import sessionmaker\n",
    "Session = sessionmaker(bind=engine)\n",
    "session = Session()\n",
    "\n",
    "session.commit()"
   ]
  },
  {
   "cell_type": "markdown",
   "metadata": {
    "slideshow": {
     "slide_type": "subslide"
    }
   },
   "source": [
    "Now we can start to create some molecules:"
   ]
  },
  {
   "cell_type": "code",
   "execution_count": 30,
   "metadata": {
    "slideshow": {
     "slide_type": "fragment"
    }
   },
   "outputs": [],
   "source": [
    "phenol = Molecule(name=\"Phenol\", atoms=[\"C\"]*6+[\"H\"]*6+[\"O\"])\n",
    "TMAC = Molecule(name=\"TetraMethylAmmonimumChloride\", atoms=[\"N\"]+[\"H\"]*4+[\"Cl\"])\n",
    "benzenediol = Molecule(name=\"Benzenediol\", atoms=[\"C\"]*6+[\"H\"]*6+[\"O\"]*2)\n",
    "ethanol = Molecule(name=\"Ethanol\", atoms=[\"C\"]*2+[\"H\"]*6+[\"O\"])"
   ]
  },
  {
   "cell_type": "markdown",
   "metadata": {
    "slideshow": {
     "slide_type": "subslide"
    }
   },
   "source": [
    "And some functional groups:"
   ]
  },
  {
   "cell_type": "code",
   "execution_count": 31,
   "metadata": {
    "slideshow": {
     "slide_type": "fragment"
    }
   },
   "outputs": [],
   "source": [
    "phenyl = Motif(name=\"phenyl\", atoms=[\"C\"]*6)\n",
    "alcohol = Motif(name=\"alcohol\", atoms=[\"O\"]+[\"H\"])"
   ]
  },
  {
   "cell_type": "markdown",
   "metadata": {
    "slideshow": {
     "slide_type": "subslide"
    }
   },
   "source": [
    "Here we add all the new molecules and functional groups to the database:"
   ]
  },
  {
   "cell_type": "code",
   "execution_count": 32,
   "metadata": {
    "slideshow": {
     "slide_type": "fragment"
    }
   },
   "outputs": [],
   "source": [
    "session.add_all([phenyl, alcohol, phenol, TMAC, benzenediol, ethanol])\n",
    "session.commit()"
   ]
  },
  {
   "cell_type": "markdown",
   "metadata": {
    "slideshow": {
     "slide_type": "subslide"
    }
   },
   "source": [
    "##### Issued SQL:\n",
    "\n",
    "```SQL\n",
    "INSERT INTO molecules (name, atoms) VALUES ('Phenol', <memory at 0x7f12f1bf9348>)\n",
    "\n",
    "INSERT INTO molecules (name, atoms) VALUES ('TetraMethylAmmonimumChloride', <memory at 0x7f12f1bf9408>)\n",
    "\n",
    "INSERT INTO molecules (name, atoms) VALUES ('Benzenediol', <memory at 0x7f12f1bf9348>)\n",
    "\n",
    "INSERT INTO molecules (name, atoms) VALUES ('Ethanol', <memory at 0x7f12f1bf9408>)\n",
    "\n",
    "INSERT INTO motifs (name, atoms) VALUES ('phenyl', <memory at 0x7f12f1bf9408>)\n",
    "\n",
    "INSERT INTO motifs (name, atoms) VALUES ('alcohol', <memory at 0x7f12f1bf9348>)\n",
    "\n",
    "COMMIT\n",
    "\n",
    "```"
   ]
  },
  {
   "cell_type": "markdown",
   "metadata": {
    "slideshow": {
     "slide_type": "subslide"
    }
   },
   "source": [
    "Here we assign some functional groups to our molecules and commit this:"
   ]
  },
  {
   "cell_type": "code",
   "execution_count": 33,
   "metadata": {
    "slideshow": {
     "slide_type": "fragment"
    }
   },
   "outputs": [],
   "source": [
    "phenol.functional_groups.extend([phenyl, alcohol])\n",
    "benzenediol.functional_groups.extend([phenyl, alcohol])\n",
    "ethanol.functional_groups.append(alcohol)\n",
    "session.commit()"
   ]
  },
  {
   "cell_type": "markdown",
   "metadata": {
    "slideshow": {
     "slide_type": "subslide"
    }
   },
   "source": [
    "Now we can query our molecule instances and see the  "
   ]
  },
  {
   "cell_type": "code",
   "execution_count": 34,
   "metadata": {
    "slideshow": {
     "slide_type": "fragment"
    }
   },
   "outputs": [
    {
     "name": "stdout",
     "output_type": "stream",
     "text": [
      "[['C', 'C', 'C', 'C', 'C', 'C'], ['O', 'H']]\n",
      "phenyl\n",
      "Phenol\n",
      "Phenol phenyl\n"
     ]
    }
   ],
   "source": [
    "print([fg.atoms for fg in phenol.functional_groups])\n",
    "print(phenol.functional_groups[0].name)\n",
    "print(phenyl.appears_in[0].name)\n",
    "print(phenyl.appears_in[0].name, phenyl.mol_motif_assoc[0].motif.name)"
   ]
  },
  {
   "cell_type": "markdown",
   "metadata": {
    "slideshow": {
     "slide_type": "subslide"
    }
   },
   "source": [
    "We can also query the database for molecules that contain specific functional groups:"
   ]
  },
  {
   "cell_type": "code",
   "execution_count": 35,
   "metadata": {
    "slideshow": {
     "slide_type": "fragment"
    }
   },
   "outputs": [
    {
     "name": "stdout",
     "output_type": "stream",
     "text": [
      "Phenol\n",
      "Benzenediol\n",
      "Ethanol\n"
     ]
    }
   ],
   "source": [
    "for molecule in session.query(Molecule).filter(Molecule.functional_groups.contains(alcohol)):\n",
    "    print(molecule.name)"
   ]
  },
  {
   "cell_type": "markdown",
   "metadata": {
    "slideshow": {
     "slide_type": "subslide"
    }
   },
   "source": [
    "Or we can query for motifs contained within a molecule:"
   ]
  },
  {
   "cell_type": "code",
   "execution_count": 36,
   "metadata": {
    "slideshow": {
     "slide_type": "fragment"
    }
   },
   "outputs": [
    {
     "name": "stdout",
     "output_type": "stream",
     "text": [
      "phenyl\n",
      "alcohol\n"
     ]
    }
   ],
   "source": [
    "for fg in session.query(Motif).filter(Motif.appears_in.contains(benzenediol)):\n",
    "    print(fg.name)"
   ]
  },
  {
   "cell_type": "markdown",
   "metadata": {
    "slideshow": {
     "slide_type": "subslide"
    }
   },
   "source": [
    "Or we could look for molecules that contain similar functional groups:"
   ]
  },
  {
   "cell_type": "code",
   "execution_count": 72,
   "metadata": {
    "slideshow": {
     "slide_type": "fragment"
    }
   },
   "outputs": [
    {
     "name": "stdout",
     "output_type": "stream",
     "text": [
      "['alcohol']\n"
     ]
    }
   ],
   "source": [
    "f_gs = session.query(Motif).filter(Motif.appears_in.contains(ethanol))\n",
    "print([f.name for f in f_gs])"
   ]
  },
  {
   "cell_type": "code",
   "execution_count": 71,
   "metadata": {
    "slideshow": {
     "slide_type": "fragment"
    }
   },
   "outputs": [
    {
     "name": "stdout",
     "output_type": "stream",
     "text": [
      "Phenol\n",
      "Benzenediol\n",
      "Ethanol\n"
     ]
    }
   ],
   "source": [
    "for mol in session.query(Molecule).join(Molecule.functional_groups).filter(Motif.id.in_(fg.id for fg in f_gs)):\n",
    "    print(mol.name)"
   ]
  }
 ],
 "metadata": {
  "celltoolbar": "Slideshow",
  "kernelspec": {
   "display_name": "Python 3",
   "language": "python",
   "name": "python3"
  },
  "language_info": {
   "codemirror_mode": {
    "name": "ipython",
    "version": 3
   },
   "file_extension": ".py",
   "mimetype": "text/x-python",
   "name": "python",
   "nbconvert_exporter": "python",
   "pygments_lexer": "ipython3",
   "version": "3.6.4"
  }
 },
 "nbformat": 4,
 "nbformat_minor": 1
}
