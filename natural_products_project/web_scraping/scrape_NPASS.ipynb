{
 "cells": [
  {
   "cell_type": "code",
   "execution_count": 1,
   "metadata": {},
   "outputs": [],
   "source": [
    "import time\n",
    "import requests\n",
    "\n",
    "from bs4 import BeautifulSoup\n",
    "\n",
    "from multiprocessing import Pool\n",
    "from tornado.httpclient import HTTPClient"
   ]
  },
  {
   "cell_type": "code",
   "execution_count": 46,
   "metadata": {},
   "outputs": [],
   "source": [
    "def handle_molecule_page(response):\n",
    "#    if response.code != 200:\n",
    "#        print(response.code, response.effective_url)\n",
    "    if not response.ok:\n",
    "        print(\"response not OK\", response.effective_url)\n",
    "        \n",
    "#    natural_product_code = response.effective_url.split(\"=\")[-1]\n",
    "    natural_product_code = response.url.split(\"=\")[-1]\n",
    "    #print(natural_product_code)\n",
    "    \n",
    "    filename = \"../mol_files/\"+natural_product_code+\".mol\"\n",
    "    \n",
    "    \n",
    "    #soup = BeautifulSoup(response.body)\n",
    "    soup = BeautifulSoup(response.text)\n",
    "    \n",
    "    for div in soup.findAll(\"div\"):\n",
    "        if div.get(\"id\") == \"load_molFile\":\n",
    "            with open(filename, \"w\") as out_mol_file:\n",
    "                out_mol_file.write(div.text)\n",
    "    return None\n",
    "                \n",
    "def send_request(url):\n",
    "    \n",
    "    response = requests.get(url)\n",
    "    handle_molecule_page(response=response)\n",
    "    \n",
    "    if not response.ok:\n",
    "        return response.url\n",
    "    \n",
    "#def send_request(url):\n",
    "#    \n",
    "#    http_client = HTTPClient()\n",
    "#    response = http_client.fetch(url, callback=handle_molecule_page)\n",
    "#    if response.code != 200:\n",
    "#        return response.effective_url\n",
    "#    time.sleep(2)\n",
    "#    http_client.close()\n",
    "    "
   ]
  },
  {
   "cell_type": "code",
   "execution_count": 44,
   "metadata": {},
   "outputs": [],
   "source": [
    "all_pages = [#DONE\"http://bidd2.nus.edu.sg/NPASS/browse_np.php?tax_l1=C0004478\", # Acetylides 3 #DONE\n",
    "#           \"http://bidd2.nus.edu.sg/NPASS/browse_np.php?tax_l1=C0000279\", # Alkaloids and derivatives 1143 \n",
    "#       \"http://bidd2.nus.edu.sg/NPASS/browse_np.php?tax_l1=C0002448\",# Benzenoids 2801\n",
    "            \"http://bidd2.nus.edu.sg/NPASS/browse_np.php?tax_l1=C0004150\", # Hydrocarbon derivatives 23 #DONE\n",
    "#Done        \"http://bidd2.nus.edu.sg/NPASS/browse_np.php?tax_l1=C0002837\", # Hydrocarbons 50 #DONE\n",
    "#            \"http://bidd2.nus.edu.sg/NPASS/browse_np.php?tax_l1=C0001392\", # Lignans, etc. 783 \n",
    "#            \"http://bidd2.nus.edu.sg/NPASS/browse_np.php?tax_l1=C0000012\", # Lipids, etc. 11376\n",
    "#DONE      \"http://bidd2.nus.edu.sg/NPASS/browse_np.php?tax_l1=C0000289\", # Nucleosides, etc. 122\n",
    "#DONE       \"http://bidd2.nus.edu.sg/NPASS/browse_np.php?tax_l1=C0003630\", # Organic 1,3-dipolar 9\n",
    "#DONE       \"http://bidd2.nus.edu.sg/NPASS/browse_np.php?tax_l1=C0003297\", # Organic Polymers 33\n",
    "#            \"http://bidd2.nus.edu.sg/NPASS/browse_np.php?tax_l1=C0000264\", # Organic acids 1983\n",
    "#DONE       \"http://bidd2.nus.edu.sg/NPASS/browse_np.php?tax_l1=C0004707\", # Organic nitrogen compounds 123\n",
    "#            \"http://bidd2.nus.edu.sg/NPASS/browse_np.php?tax_l1=C0004603\", # Organic oxygen compounds 1880\n",
    "#DONE       \"http://bidd2.nus.edu.sg/NPASS/browse_np.php?tax_l1=C0000267\", # Organohalogens 58\n",
    "#            \"http://bidd2.nus.edu.sg/NPASS/browse_np.php?tax_l1=C0000002\", # Organoheterocyclics 4713\n",
    "#DONE       \"http://bidd2.nus.edu.sg/NPASS/browse_np.php?tax_l1=C0000462\", # Organometallics 4\n",
    "#DONE       \"http://bidd2.nus.edu.sg/NPASS/browse_np.php?tax_l1=C0000004\",] # Organosulfur 52\n",
    "#            \"http://bidd2.nus.edu.sg/NPASS/browse_np.php?tax_l1=C0000261\"] # Phenylpropanoids 5093\n",
    "]\n",
    "mol_pages = []\n",
    "\n",
    "for page in all_pages:\n",
    "    browse_page = requests.get(page)\n",
    "\n",
    "    soup = BeautifulSoup(browse_page.text)\n",
    "\n",
    "    for link in soup.findAll(\"a\"):\n",
    "        if link.text[:4] == \" NPC\":\n",
    "            mol_pages.append(\"http://bidd2.nus.edu.sg/NPASS/\"+link.get(\"href\"))\n",
    "\n",
    "        "
   ]
  },
  {
   "cell_type": "code",
   "execution_count": 47,
   "metadata": {},
   "outputs": [
    {
     "name": "stdout",
     "output_type": "stream",
     "text": [
      "23\n",
      "mol_pages = []\n",
      "finished\n"
     ]
    }
   ],
   "source": [
    "pool = Pool(8)\n",
    "\n",
    "while True:\n",
    "    print(len(mol_pages))\n",
    "    mol_pages = pool.map(send_request, mol_pages)\n",
    "    mol_pages = [r[1] for r in mol_pages if r is not None]\n",
    "    print(f\"mol_pages = {mol_pages}\")\n",
    "    \n",
    "    if len([i for i in mol_pages if i is not None]) == 0:\n",
    "        pool.close()\n",
    "        break\n",
    "    print(mol_pages)\n",
    "    \n",
    "print(\"finished\")"
   ]
  },
  {
   "cell_type": "code",
   "execution_count": 35,
   "metadata": {},
   "outputs": [],
   "source": [
    "r = requests.get(\"http://www.google.com/404\")"
   ]
  },
  {
   "cell_type": "code",
   "execution_count": 38,
   "metadata": {},
   "outputs": [
    {
     "name": "stdout",
     "output_type": "stream",
     "text": [
      "False\n"
     ]
    }
   ],
   "source": [
    "print(r.ok)"
   ]
  }
 ],
 "metadata": {
  "kernelspec": {
   "display_name": "Python 3",
   "language": "python",
   "name": "python3"
  },
  "language_info": {
   "codemirror_mode": {
    "name": "ipython",
    "version": 3
   },
   "file_extension": ".py",
   "mimetype": "text/x-python",
   "name": "python",
   "nbconvert_exporter": "python",
   "pygments_lexer": "ipython3",
   "version": "3.7.0"
  }
 },
 "nbformat": 4,
 "nbformat_minor": 2
}
