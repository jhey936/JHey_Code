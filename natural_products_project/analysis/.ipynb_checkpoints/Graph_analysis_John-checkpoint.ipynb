{
 "cells": [
  {
   "cell_type": "markdown",
   "metadata": {},
   "source": [
    "## Imports"
   ]
  },
  {
   "cell_type": "code",
   "execution_count": 1,
   "metadata": {},
   "outputs": [],
   "source": [
    "import sys\n",
    "\n",
    "# change this to point at your version\n",
    "sys.path.append(\"/home/john/Software/natural_products_project/\")\n",
    "\n",
    "import numpy as np\n",
    "import matplotlib.pyplot as plt\n",
    "import networkx as nx\n",
    "\n",
    "from natural_products.NaturalProductStorage import *\n",
    "from natural_products.isomorphism import check_isomorphism"
   ]
  },
  {
   "cell_type": "code",
   "execution_count": 2,
   "metadata": {},
   "outputs": [],
   "source": [
    "import requests\n",
    "from bs4 import BeautifulSoup"
   ]
  },
  {
   "cell_type": "markdown",
   "metadata": {},
   "source": [
    "### Setup some functions"
   ]
  },
  {
   "cell_type": "code",
   "execution_count": 3,
   "metadata": {},
   "outputs": [],
   "source": [
    "def remove_nps_with_no_cycles():\n",
    "    print(\"Without cycles before removal: \", sess.query(NaturalProduct).filter(~NaturalProduct.cycles.any()).count())\n",
    "    no_cycles = sess.query(NaturalProduct).filter(~NaturalProduct.cycles.any())\n",
    "    no_cycles.delete(synchronize_session=False)\n",
    "    sess.commit()\n",
    "    print(\"Without cycles after removal: \", sess.query(NaturalProduct).filter(~NaturalProduct.cycles.any()).count())\n",
    "\n",
    "def get_cycle_by_smiles(smiles):\n",
    "    all_cycles = sess.query(Cycle).all()\n",
    "    my_cycle = [cycle for cycle in all_cycles if smiles in cycle.cycle_representation]\n",
    "    return my_cycle\n",
    "\n",
    "def get_properties_InChiKey(InChiKey):\n",
    "    \n",
    "    \n",
    "    compound = json.loads(requests.get(\n",
    "        f\"https://pubchem.ncbi.nlm.nih.gov/rest/pug/compound/InChiKey/{InChiKey}/JSON\").text)\n",
    "\n",
    "    out_list = []\n",
    "\n",
    "    for i in compound[\"PC_Compounds\"][0][\"props\"]:\n",
    "        name = None\n",
    "    \n",
    "        if \"name\" in i[\"urn\"].keys():\n",
    "            #print(\"===================\")\n",
    "            name = i[\"urn\"][\"name\"]\n",
    "    \n",
    "        out_list.append([i[\"urn\"][\"label\"], name, i[\"value\"][list(i[\"value\"].keys())[0]]])\n",
    "    return out_list\n",
    "\n",
    "def print_nice_table(cycle_list, N=10):\n",
    "    \n",
    "    cycle_list = sorted(cycle_list, key=lambda x: x.frequency, reverse=True)\n",
    "    \n",
    "    if len(cycle_list) < N:\n",
    "        N = len(cycle_list)+1\n",
    "        \n",
    "    print(f\"There are: {len(cycle_list)} unique cycles.\\nShowing the {N} most common: \") \n",
    "    print(\"--------------------------------\")\n",
    "    print(\"Frequency | Cycle Representation\")\n",
    "    print(\"================================\")\n",
    "    for cycle in cycle_list[:N]:\n",
    "        print(f\"   {cycle.frequency:<6} | {cycle.cycle_representation[0]}\")\n",
    "    print(\"================================\")\n",
    "    "
   ]
  },
  {
   "cell_type": "code",
   "execution_count": 4,
   "metadata": {},
   "outputs": [],
   "source": [
    "def get_molecular_weight(G):\n",
    "    \n",
    "    weights = {\"H\":1, \"C\":12, \"N\":14, \"O\":16, \"S\":32}\n",
    "    \n",
    "    for node in G.nodes():\n",
    "        pass\n",
    "        "
   ]
  },
  {
   "cell_type": "markdown",
   "metadata": {},
   "source": [
    "### Load database into memory"
   ]
  },
  {
   "cell_type": "code",
   "execution_count": 6,
   "metadata": {},
   "outputs": [
    {
     "name": "stdout",
     "output_type": "stream",
     "text": [
      "10088\n"
     ]
    }
   ],
   "source": [
    "import shutil\n",
    "\n",
    "\n",
    "database_name = \"/home/john/Software/natural_products_project/analysis/10k_np_mon_25th.db\"\n",
    "\n",
    "\n",
    "temp_db = database_name+\"_temp\"\n",
    "shutil.copy2(src=database_name, dst=temp_db)\n",
    "\n",
    "db = Database(temp_db)\n",
    "print(db.number_of_natural_products)\n",
    "sess = db.get_session()"
   ]
  },
  {
   "cell_type": "markdown",
   "metadata": {},
   "source": [
    "### Clean up database to remove repeated cycles "
   ]
  },
  {
   "cell_type": "code",
   "execution_count": 7,
   "metadata": {},
   "outputs": [],
   "source": [
    "sess.rollback()\n",
    "sess.commit()"
   ]
  },
  {
   "cell_type": "code",
   "execution_count": 8,
   "metadata": {},
   "outputs": [
    {
     "name": "stdout",
     "output_type": "stream",
     "text": [
      "Number of cycles before combining duplicates:  7378\n",
      "Number of cycles after combining duplicates:  7366\n"
     ]
    }
   ],
   "source": [
    "all_cycles = sess.query(Cycle).all()\n",
    "\n",
    "print(\"Number of cycles before combining duplicates: \", sess.query(Cycle).count() )\n",
    "\n",
    "for cycle in all_cycles:\n",
    "    #same_cycles = sess.query(Cycle).filter(Cycle.cycle_representation.any() == cycle.cycle_representation.any()).all()\n",
    "    \n",
    "    potential_cycles = sess.query(Cycle).filter(Cycle.cycle_separation == cycle.cycle_separation).all()\n",
    "    \n",
    "    \n",
    "    potential_cycles.remove(cycle)\n",
    "    \n",
    "    for potential_match in potential_cycles:      \n",
    "        \n",
    "        if cycle.cycle_representation[0] in potential_match.cycle_representation:\n",
    "            cycle.frequency += potential_match.frequency\n",
    "            cycle.np_id.extend(potential_match.np_id)\n",
    "            sess.delete(potential_match)\n",
    "            sess.commit()\n",
    "            all_cycles.remove(potential_match)\n",
    "\n",
    "print(\"Number of cycles after combining duplicates: \", sess.query(Cycle).count() )\n"
   ]
  },
  {
   "cell_type": "markdown",
   "metadata": {},
   "source": [
    "### Delete nps with no cycles that actually do have some cycles"
   ]
  },
  {
   "cell_type": "code",
   "execution_count": 9,
   "metadata": {},
   "outputs": [
    {
     "name": "stdout",
     "output_type": "stream",
     "text": [
      "Number of nps before removing ones which actually do have some cycles:  10088\n",
      "Number of nps before after ones which actually do have some cycles:  10086\n"
     ]
    }
   ],
   "source": [
    "print(\"Number of nps before removing ones which actually do have some cycles: \", \n",
    "      db.number_of_natural_products)\n",
    "\n",
    "all_no_cycle_nps = sess.query(NaturalProduct).filter(~NaturalProduct.cycles.any())\n",
    "\n",
    "actually_have_cycles = []\n",
    "for n_product in all_no_cycle_nps[:]:\n",
    "    cycle_basis = nx.cycle_basis(n_product.graph)\n",
    "    #print(cycle_basis)\n",
    "    if cycle_basis != []:\n",
    "        sess.delete(n_product)\n",
    "        sess.commit()\n",
    "\n",
    "print(\"Number of nps before after ones which actually do have some cycles: \", \n",
    "      db.number_of_natural_products)\n"
   ]
  },
  {
   "cell_type": "code",
   "execution_count": 17,
   "metadata": {},
   "outputs": [
    {
     "name": "stdout",
     "output_type": "stream",
     "text": [
      "7366\n",
      "0\n"
     ]
    }
   ],
   "source": [
    "all_cycles = sess.query(Cycle).all()\n",
    "print(len(all_cycles))\n",
    "\n",
    "\n",
    "Si_cycles = sorted([ cyc for cyc in all_cycles if 'Si' in  cyc.cycle_representation[0]], \n",
    "                  key= lambda x: x.frequency, reverse=True)\n",
    "print(len(Si_cycles))"
   ]
  },
  {
   "cell_type": "markdown",
   "metadata": {},
   "source": [
    "### Test getting cycles by their smiles "
   ]
  },
  {
   "cell_type": "code",
   "execution_count": 9,
   "metadata": {},
   "outputs": [
    {
     "data": {
      "text/plain": [
       "[<Cycles(cycle_id='186',cycle_representation='['C-C-O-', 'C-O-C-', 'O-C-C-']',,cycle_separation='[3, 2, 1, 0, 0]', frequency='416)>]"
      ]
     },
     "execution_count": 9,
     "metadata": {},
     "output_type": "execute_result"
    }
   ],
   "source": [
    "get_cycle_by_smiles(\"C-O-C-\")"
   ]
  },
  {
   "cell_type": "code",
   "execution_count": 10,
   "metadata": {},
   "outputs": [
    {
     "data": {
      "text/plain": [
       "[<Cycles(cycle_id='124',cycle_representation='['C-C-C-O-C=', 'C-C-C=C-O-', 'C-C-O-C=C-', 'C-C=C-O-C-', 'C-O-C-C-C=', 'C-O-C=C-C-', 'C=C-C-C-O-', 'C=C-O-C-C-', 'O-C-C-C=C-', 'O-C=C-C-C-']',,cycle_separation='[5, 4, 1, 0, 0]', frequency='276)>]"
      ]
     },
     "execution_count": 10,
     "metadata": {},
     "output_type": "execute_result"
    }
   ],
   "source": [
    "get_cycle_by_smiles(\"C=C-C-C-O-\")"
   ]
  },
  {
   "cell_type": "markdown",
   "metadata": {},
   "source": [
    "### Test db.session queries are returning as expected"
   ]
  },
  {
   "cell_type": "code",
   "execution_count": 11,
   "metadata": {},
   "outputs": [
    {
     "name": "stdout",
     "output_type": "stream",
     "text": [
      "Total number of NPs:  13735\n",
      "Without cycles:  1476\n",
      "With cycles:  12259\n"
     ]
    }
   ],
   "source": [
    "print(\"Total number of NPs: \", db.number_of_natural_products)\n",
    "print(\"Without cycles: \", sess.query(NaturalProduct).filter(~NaturalProduct.cycles.any()).count())\n",
    "print(\"With cycles: \", sess.query(NaturalProduct).filter(NaturalProduct.cycles.any()).count())"
   ]
  },
  {
   "cell_type": "code",
   "execution_count": 12,
   "metadata": {},
   "outputs": [
    {
     "name": "stdout",
     "output_type": "stream",
     "text": [
      "WHDZTXRZTFGPRJ-HQYXJCMVSA-N 1\n",
      "TXYZIRSIJCTANA-QPUIMWOUSA-N 4\n",
      "PDGMAKUNBKVBPX-KDXRKLLMSA-N 29\n",
      "WHBMMWSBFZVSSR-UHFFFAOYSA-N 33\n",
      "WHBMMWSBFZVSSR-GSVOUGTGSA-N 42\n",
      "HHAMKMUMKLXDFQ-NQOFJFAASA-N 51\n",
      "STVZJERGLQHEKB-UHFFFAOYSA-N 76\n",
      "NUHSROFQTUXZQQ-UHFFFAOYSA-N 92\n",
      "QFWVGKDFYOXTQO-UHFFFAOYSA-N 101\n",
      "PLZVEHJLHYMBBY-UHFFFAOYSA-N 104\n"
     ]
    }
   ],
   "source": [
    "n_prods = sess.query(NaturalProduct).filter(~NaturalProduct.cycles.any()).all()\n",
    "\n",
    "for n_prod in n_prods[:10]:\n",
    "    print(n_prod.np_info['Standard InCHIKey'], n_prod.np_id)\n",
    "    #print(n_prod)\n"
   ]
  },
  {
   "cell_type": "code",
   "execution_count": 13,
   "metadata": {},
   "outputs": [],
   "source": [
    "import requests\n",
    "import json\n",
    "from IPython.display import Image, display\n",
    "from IPython.core.display import HTML "
   ]
  },
  {
   "cell_type": "code",
   "execution_count": 14,
   "metadata": {},
   "outputs": [
    {
     "name": "stdout",
     "output_type": "stream",
     "text": [
      "There are: 7593 unique cycles.\n",
      "Showing the 20 most common: \n",
      "--------------------------------\n",
      "Frequency | Cycle Representation\n",
      "================================\n",
      "   3398   | C-C=C-C=C-C=\n",
      "   3206   | C-C-C-C-C-C-\n",
      "   2461   | C-C-C-C-C-O-\n",
      "   2266   | C-C-C-C-C-C-C-C-C-C-\n",
      "   1864   | C-C-C-C-C-C=\n",
      "   1715   | C-C-C-C-C-C-C-C-C-C=\n",
      "   1550   | C-C-C-C-C-\n",
      "   1487   | C-C-C-C-O-\n",
      "   1416   | C-C-C-C-C-C-C-C-C-C-C-C-C-C=\n",
      "   1124   | C-C-C-C-C-C-C-C-C-C-C-C-C-C-\n",
      "   953    | C-C-C-C-C-C-C-C-C-\n",
      "   861    | C-C-C-C-O-C=\n",
      "   760    | C-C-C-C-C-C-C-C-C-C-C-C-C-C-C-C-C-C=\n",
      "   678    | C-C-C-C-C-C-C-C-C-C-C-C-C-\n",
      "   603    | C-C-C-C-C-N-\n",
      "   575    | C-C-C-C-C-C-C-\n",
      "   571    | C-C-C-C-N-\n",
      "   551    | C-C-C-C-C-C-C-C-C-C-C-C-C-C-C-C-C-\n",
      "   487    | C-C-O-C-C=\n",
      "   451    | C-C-C-C-C-C-C-C-C-O-\n",
      "================================\n"
     ]
    }
   ],
   "source": [
    "all_cycles = sess.query(Cycle).all()\n",
    "\n",
    "all_cycles = sorted(all_cycles, key=lambda x: x.frequency, reverse=True)\n",
    "\n",
    "print_nice_table(all_cycles, N=20)"
   ]
  },
  {
   "cell_type": "markdown",
   "metadata": {},
   "source": [
    "### Freq of each element"
   ]
  },
  {
   "cell_type": "code",
   "execution_count": 15,
   "metadata": {},
   "outputs": [],
   "source": [
    "all_cycles = sess.query(Cycle).all()\n",
    "C_cycles = sorted([ cyc for cyc in all_cycles if cyc.cycle_separation[1] > 0], \n",
    "                  key= lambda x: x.frequency, reverse=True)\n",
    "O_cycles = sorted([ cyc for cyc in all_cycles if cyc.cycle_separation[2] > 0], \n",
    "                  key= lambda x: x.frequency, reverse=True)\n",
    "N_cycles = sorted([ cyc for cyc in all_cycles if cyc.cycle_separation[3] > 0], \n",
    "                  key= lambda x: x.frequency, reverse=True)\n",
    "S_cycles = sorted([ cyc for cyc in all_cycles if cyc.cycle_separation[4] > 0], \n",
    "                  key= lambda x: x.frequency, reverse=True)"
   ]
  },
  {
   "cell_type": "code",
   "execution_count": 16,
   "metadata": {
    "scrolled": false
   },
   "outputs": [
    {
     "name": "stdout",
     "output_type": "stream",
     "text": [
      "C Cycles:\n",
      "There are: 7592 unique cycles.\n",
      "Showing the 10 most common: \n",
      "--------------------------------\n",
      "Frequency | Cycle Representation\n",
      "================================\n",
      "   3398   | C-C=C-C=C-C=\n",
      "   3206   | C-C-C-C-C-C-\n",
      "   2461   | C-C-C-C-C-O-\n",
      "   2266   | C-C-C-C-C-C-C-C-C-C-\n",
      "   1864   | C-C-C-C-C-C=\n",
      "   1715   | C-C-C-C-C-C-C-C-C-C=\n",
      "   1550   | C-C-C-C-C-\n",
      "   1487   | C-C-C-C-O-\n",
      "   1416   | C-C-C-C-C-C-C-C-C-C-C-C-C-C=\n",
      "   1124   | C-C-C-C-C-C-C-C-C-C-C-C-C-C-\n",
      "================================\n",
      "O Cycles:\n",
      "There are: 5515 unique cycles.\n",
      "Showing the 10 most common: \n",
      "--------------------------------\n",
      "Frequency | Cycle Representation\n",
      "================================\n",
      "   2461   | C-C-C-C-C-O-\n",
      "   1487   | C-C-C-C-O-\n",
      "   861    | C-C-C-C-O-C=\n",
      "   487    | C-C-O-C-C=\n",
      "   451    | C-C-C-C-C-C-C-C-C-O-\n",
      "   440    | C-C-C-C-C-O-C-C=C-C=\n",
      "   438    | C-C-C-C-C-C-O-\n",
      "   416    | C-C-O-\n",
      "   415    | C-C-C=C-C=C-C=C-O-C=\n",
      "   412    | C-C-C-O-C-C=\n",
      "================================\n",
      "N Cycles:\n",
      "There are: 3388 unique cycles.\n",
      "Showing the 10 most common: \n",
      "--------------------------------\n",
      "Frequency | Cycle Representation\n",
      "================================\n",
      "   603    | C-C-C-C-C-N-\n",
      "   571    | C-C-C-C-N-\n",
      "   354    | C-C-C-N-C=\n",
      "   310    | C-C=C-C=C-N=\n",
      "   301    | C-C=C-C=C-C=C-N-C=\n",
      "   236    | C-C=C-N-C=\n",
      "   209    | C-C-C-N-C-C=C-C=C-C=\n",
      "   158    | C-C-C-N-C-C=\n",
      "   147    | C-C-C-C-C-C-C-C-N-\n",
      "   132    | C-C-C-N-C=C-C=C-C=\n",
      "================================\n",
      "S Cycles:\n",
      "There are: 435 unique cycles.\n",
      "Showing the 10 most common: \n",
      "--------------------------------\n",
      "Frequency | Cycle Representation\n",
      "================================\n",
      "   98     | C-N=C-S-C=\n",
      "   25     | C-C=C-S-C=\n",
      "   24     | C-C-N=C-S-\n",
      "   21     | C-C-N=C-C-N=C-C-N=C-C-N=C-C-N=C-C=C-S-\n",
      "   20     | C-C-N-C-S-S-\n",
      "   13     | C-C-C-C-S-\n",
      "   12     | C-C-C-C-N-C-C-S-S-\n",
      "   9      | C-C-N=C-C-N=C-C-N=C-C=C-S-C-C-N=C-C=C-S-\n",
      "   8      | C-C-N=C-C-N=C-C-N=C-C-N=C-C-N=C-C-N=C-C-N=C-C=C-S-\n",
      "   8      | C-C-C-N-C-C-O-C-C-C=N-C-C-N-C-C-S-\n",
      "================================\n"
     ]
    }
   ],
   "source": [
    "print(\"C Cycles:\")\n",
    "print_nice_table(C_cycles)\n",
    "print(\"O Cycles:\")\n",
    "print_nice_table(O_cycles)\n",
    "print(\"N Cycles:\")\n",
    "print_nice_table(N_cycles)\n",
    "print(\"S Cycles:\")\n",
    "print_nice_table(S_cycles)"
   ]
  },
  {
   "cell_type": "code",
   "execution_count": 17,
   "metadata": {},
   "outputs": [
    {
     "data": {
      "text/plain": [
       "[<Cycles(cycle_id='5',cycle_representation='['C-C=C-C=C-C=', 'C=C-C=C-C=C-']',,cycle_separation='[6, 6, 0, 0, 0]', frequency='3398)>,\n",
       " <Cycles(cycle_id='11',cycle_representation='['C-C=C-C=C-C=', 'C=C-C=C-C=C-']',,cycle_separation='[6, 6, 0, 0, 0]', frequency='1)>,\n",
       " <Cycles(cycle_id='79',cycle_representation='['C-C=C-C=C-C=', 'C=C-C=C-C=C-']',,cycle_separation='[6, 6, 0, 0, 0]', frequency='1)>]"
      ]
     },
     "execution_count": 17,
     "metadata": {},
     "output_type": "execute_result"
    }
   ],
   "source": [
    "get_cycle_by_smiles(\"C-C=C-C=C-C=\")"
   ]
  },
  {
   "cell_type": "code",
   "execution_count": 18,
   "metadata": {},
   "outputs": [],
   "source": [
    "n_prods = sess.query(NaturalProduct).all()\n",
    "cycles = sess.query(Cycle).all()"
   ]
  },
  {
   "cell_type": "markdown",
   "metadata": {},
   "source": [
    "## Pictures of NPs"
   ]
  },
  {
   "cell_type": "code",
   "execution_count": 19,
   "metadata": {},
   "outputs": [
    {
     "name": "stdout",
     "output_type": "stream",
     "text": [
      "FDQZTPPHJRQRQQ-NZPQQUJLSA-N 9689 207\n"
     ]
    },
    {
     "data": {
      "text/html": [
       "<img src=\"https://pubchem.ncbi.nlm.nih.gov/rest/pug/compound/InChiKey/FDQZTPPHJRQRQQ-NZPQQUJLSA-N/PNG\"/>"
      ],
      "text/plain": [
       "<IPython.core.display.Image object>"
      ]
     },
     "metadata": {},
     "output_type": "display_data"
    },
    {
     "name": "stdout",
     "output_type": "stream",
     "text": [
      "UDDACPSXBDFIFN-NSGUDPGQSA-N 4428 201\n"
     ]
    },
    {
     "data": {
      "text/html": [
       "<img src=\"https://pubchem.ncbi.nlm.nih.gov/rest/pug/compound/InChiKey/UDDACPSXBDFIFN-NSGUDPGQSA-N/PNG\"/>"
      ],
      "text/plain": [
       "<IPython.core.display.Image object>"
      ]
     },
     "metadata": {},
     "output_type": "display_data"
    },
    {
     "name": "stdout",
     "output_type": "stream",
     "text": [
      "VDXZNPDIRNWWCW-JFTDCZMZSA-N 4915 201\n"
     ]
    },
    {
     "data": {
      "text/html": [
       "<img src=\"https://pubchem.ncbi.nlm.nih.gov/rest/pug/compound/InChiKey/VDXZNPDIRNWWCW-JFTDCZMZSA-N/PNG\"/>"
      ],
      "text/plain": [
       "<IPython.core.display.Image object>"
      ]
     },
     "metadata": {},
     "output_type": "display_data"
    },
    {
     "name": "stdout",
     "output_type": "stream",
     "text": [
      "DRLUTLAAIGZFCO-NSGUDPGQSA-N 12329 201\n"
     ]
    },
    {
     "data": {
      "text/html": [
       "<img src=\"https://pubchem.ncbi.nlm.nih.gov/rest/pug/compound/InChiKey/DRLUTLAAIGZFCO-NSGUDPGQSA-N/PNG\"/>"
      ],
      "text/plain": [
       "<IPython.core.display.Image object>"
      ]
     },
     "metadata": {},
     "output_type": "display_data"
    },
    {
     "name": "stdout",
     "output_type": "stream",
     "text": [
      "FQYZTZXSIFWAPT-NMRWSHIASA-N 11285 196\n"
     ]
    },
    {
     "data": {
      "text/html": [
       "<img src=\"https://pubchem.ncbi.nlm.nih.gov/rest/pug/compound/InChiKey/FQYZTZXSIFWAPT-NMRWSHIASA-N/PNG\"/>"
      ],
      "text/plain": [
       "<IPython.core.display.Image object>"
      ]
     },
     "metadata": {},
     "output_type": "display_data"
    },
    {
     "name": "stdout",
     "output_type": "stream",
     "text": [
      "JOEVSZGZFHWRGR-KTPAMDGSSA-N 3116 185\n"
     ]
    },
    {
     "data": {
      "text/html": [
       "<img src=\"https://pubchem.ncbi.nlm.nih.gov/rest/pug/compound/InChiKey/JOEVSZGZFHWRGR-KTPAMDGSSA-N/PNG\"/>"
      ],
      "text/plain": [
       "<IPython.core.display.Image object>"
      ]
     },
     "metadata": {},
     "output_type": "display_data"
    },
    {
     "name": "stdout",
     "output_type": "stream",
     "text": [
      "SXYQIHXUHVFGSL-HRUNNNKPSA-N 10854 179\n"
     ]
    },
    {
     "data": {
      "text/html": [
       "<img src=\"https://pubchem.ncbi.nlm.nih.gov/rest/pug/compound/InChiKey/SXYQIHXUHVFGSL-HRUNNNKPSA-N/PNG\"/>"
      ],
      "text/plain": [
       "<IPython.core.display.Image object>"
      ]
     },
     "metadata": {},
     "output_type": "display_data"
    },
    {
     "name": "stdout",
     "output_type": "stream",
     "text": [
      "BQDFVCQKHXIFEZ-DEUCODPWSA-N 765 161\n"
     ]
    },
    {
     "data": {
      "text/html": [
       "<img src=\"https://pubchem.ncbi.nlm.nih.gov/rest/pug/compound/InChiKey/BQDFVCQKHXIFEZ-DEUCODPWSA-N/PNG\"/>"
      ],
      "text/plain": [
       "<IPython.core.display.Image object>"
      ]
     },
     "metadata": {},
     "output_type": "display_data"
    },
    {
     "name": "stdout",
     "output_type": "stream",
     "text": [
      "YREDOTFKGSGUIY-KEKMGKKGSA-N 9290 161\n"
     ]
    },
    {
     "data": {
      "text/html": [
       "<img src=\"https://pubchem.ncbi.nlm.nih.gov/rest/pug/compound/InChiKey/YREDOTFKGSGUIY-KEKMGKKGSA-N/PNG\"/>"
      ],
      "text/plain": [
       "<IPython.core.display.Image object>"
      ]
     },
     "metadata": {},
     "output_type": "display_data"
    },
    {
     "name": "stdout",
     "output_type": "stream",
     "text": [
      "LKBSJWFTPPMQGM-PCIKECTOSA-N 4984 150\n"
     ]
    },
    {
     "data": {
      "text/html": [
       "<img src=\"https://pubchem.ncbi.nlm.nih.gov/rest/pug/compound/InChiKey/LKBSJWFTPPMQGM-PCIKECTOSA-N/PNG\"/>"
      ],
      "text/plain": [
       "<IPython.core.display.Image object>"
      ]
     },
     "metadata": {},
     "output_type": "display_data"
    }
   ],
   "source": [
    "n_prods_largest = sorted(n_prods, key= lambda x: len(x.graph.nodes()), reverse=True)\n",
    "\n",
    "for n_prod in n_prods_largest[:10]:\n",
    "    InChiKey = n_prod.np_info['Standard InCHIKey']\n",
    "    print(InChiKey, n_prod.np_id, len(n_prod.graph.nodes()))\n",
    "    display(Image(url= f\"https://pubchem.ncbi.nlm.nih.gov/rest/pug/compound/InChiKey/{InChiKey}/PNG\"))\n",
    "    #print(get_properties_InChiKey(InChiKey))"
   ]
  },
  {
   "cell_type": "code",
   "execution_count": 20,
   "metadata": {},
   "outputs": [
    {
     "name": "stdout",
     "output_type": "stream",
     "text": [
      "SPCNPTRDKPQXMI-FHYGPXEESA-N 10494 86\n"
     ]
    },
    {
     "data": {
      "text/html": [
       "<img src=\"https://pubchem.ncbi.nlm.nih.gov/rest/pug/compound/InChiKey/SPCNPTRDKPQXMI-FHYGPXEESA-N/PNG\"/>"
      ],
      "text/plain": [
       "<IPython.core.display.Image object>"
      ]
     },
     "metadata": {},
     "output_type": "display_data"
    },
    {
     "name": "stdout",
     "output_type": "stream",
     "text": [
      "RDEZRSOXSQHNOU-MZAOIEPISA-N 9790 82\n"
     ]
    },
    {
     "data": {
      "text/html": [
       "<img src=\"https://pubchem.ncbi.nlm.nih.gov/rest/pug/compound/InChiKey/RDEZRSOXSQHNOU-MZAOIEPISA-N/PNG\"/>"
      ],
      "text/plain": [
       "<IPython.core.display.Image object>"
      ]
     },
     "metadata": {},
     "output_type": "display_data"
    },
    {
     "name": "stdout",
     "output_type": "stream",
     "text": [
      "HBOQXIRUPVQLKX-BBWANDEASA-N 3926 63\n"
     ]
    },
    {
     "data": {
      "text/html": [
       "<img src=\"https://pubchem.ncbi.nlm.nih.gov/rest/pug/compound/InChiKey/HBOQXIRUPVQLKX-BBWANDEASA-N/PNG\"/>"
      ],
      "text/plain": [
       "<IPython.core.display.Image object>"
      ]
     },
     "metadata": {},
     "output_type": "display_data"
    },
    {
     "name": "stdout",
     "output_type": "stream",
     "text": [
      "PVNIQBQSYATKKL-UHFFFAOYSA-N 12760 57\n"
     ]
    },
    {
     "data": {
      "text/html": [
       "<img src=\"https://pubchem.ncbi.nlm.nih.gov/rest/pug/compound/InChiKey/PVNIQBQSYATKKL-UHFFFAOYSA-N/PNG\"/>"
      ],
      "text/plain": [
       "<IPython.core.display.Image object>"
      ]
     },
     "metadata": {},
     "output_type": "display_data"
    },
    {
     "name": "stdout",
     "output_type": "stream",
     "text": [
      "BQLNMCQNOASKKE-SZBZILBQSA-N 5077 51\n"
     ]
    },
    {
     "data": {
      "text/html": [
       "<img src=\"https://pubchem.ncbi.nlm.nih.gov/rest/pug/compound/InChiKey/BQLNMCQNOASKKE-SZBZILBQSA-N/PNG\"/>"
      ],
      "text/plain": [
       "<IPython.core.display.Image object>"
      ]
     },
     "metadata": {},
     "output_type": "display_data"
    },
    {
     "name": "stdout",
     "output_type": "stream",
     "text": [
      "KILNVBDSWZSGLL-KXQOOQHDSA-N 3107 50\n"
     ]
    },
    {
     "data": {
      "text/html": [
       "<img src=\"https://pubchem.ncbi.nlm.nih.gov/rest/pug/compound/InChiKey/KILNVBDSWZSGLL-KXQOOQHDSA-N/PNG\"/>"
      ],
      "text/plain": [
       "<IPython.core.display.Image object>"
      ]
     },
     "metadata": {},
     "output_type": "display_data"
    },
    {
     "name": "stdout",
     "output_type": "stream",
     "text": [
      "XNLFLZXNXQVPII-IDAYOUIPSA-N 3500 50\n"
     ]
    },
    {
     "data": {
      "text/html": [
       "<img src=\"https://pubchem.ncbi.nlm.nih.gov/rest/pug/compound/InChiKey/XNLFLZXNXQVPII-IDAYOUIPSA-N/PNG\"/>"
      ],
      "text/plain": [
       "<IPython.core.display.Image object>"
      ]
     },
     "metadata": {},
     "output_type": "display_data"
    },
    {
     "name": "stdout",
     "output_type": "stream",
     "text": [
      "VVKGWBVDEPOQKN-GRSQLHGCSA-N 7003 50\n"
     ]
    },
    {
     "data": {
      "text/html": [
       "<img src=\"https://pubchem.ncbi.nlm.nih.gov/rest/pug/compound/InChiKey/VVKGWBVDEPOQKN-GRSQLHGCSA-N/PNG\"/>"
      ],
      "text/plain": [
       "<IPython.core.display.Image object>"
      ]
     },
     "metadata": {},
     "output_type": "display_data"
    },
    {
     "name": "stdout",
     "output_type": "stream",
     "text": [
      "NMCPLXDFOONXSK-PNJMKJAYSA-N 2009 49\n"
     ]
    },
    {
     "data": {
      "text/html": [
       "<img src=\"https://pubchem.ncbi.nlm.nih.gov/rest/pug/compound/InChiKey/NMCPLXDFOONXSK-PNJMKJAYSA-N/PNG\"/>"
      ],
      "text/plain": [
       "<IPython.core.display.Image object>"
      ]
     },
     "metadata": {},
     "output_type": "display_data"
    },
    {
     "name": "stdout",
     "output_type": "stream",
     "text": [
      "KYOPDYZCISEEDJ-XLZBNJRXSA-N 2734 49\n"
     ]
    },
    {
     "data": {
      "text/html": [
       "<img src=\"https://pubchem.ncbi.nlm.nih.gov/rest/pug/compound/InChiKey/KYOPDYZCISEEDJ-XLZBNJRXSA-N/PNG\"/>"
      ],
      "text/plain": [
       "<IPython.core.display.Image object>"
      ]
     },
     "metadata": {},
     "output_type": "display_data"
    }
   ],
   "source": [
    "import time\n",
    "\n",
    "n_prods_no_cycles_largest = sorted(sess.query(NaturalProduct).filter(~NaturalProduct.cycles.any()), \n",
    "                         key= lambda x: len(x.graph.nodes()), reverse=True)\n",
    "\n",
    "for n_prod in n_prods_no_cycles_largest[:10]:\n",
    "    InChiKey = n_prod.np_info['Standard InCHIKey']\n",
    "    print(InChiKey, n_prod.np_id, len(n_prod.graph.nodes()))\n",
    "    time.sleep(0.5)\n",
    "    display(Image(url= f\"https://pubchem.ncbi.nlm.nih.gov/rest/pug/compound/InChiKey/{InChiKey}/PNG\"))\n"
   ]
  },
  {
   "cell_type": "markdown",
   "metadata": {},
   "source": [
    "### Biggest molecule cycles: "
   ]
  },
  {
   "cell_type": "code",
   "execution_count": null,
   "metadata": {
    "scrolled": false
   },
   "outputs": [],
   "source": [
    "BM = sess.query(NaturalProduct).filter(NaturalProduct.np_id == n_prods_largest[0].np_id).first()\n",
    "\n",
    "for c in BM.cycles:\n",
    "    print(c.cycle_id, c.cycle_separation[0])"
   ]
  },
  {
   "cell_type": "code",
   "execution_count": null,
   "metadata": {},
   "outputs": [],
   "source": [
    "sess.query(Cycle).filter(Cycle.cycle_id == 111).all()"
   ]
  },
  {
   "cell_type": "markdown",
   "metadata": {},
   "source": [
    "### Test getting properties based on InChiKey"
   ]
  },
  {
   "cell_type": "code",
   "execution_count": null,
   "metadata": {},
   "outputs": [],
   "source": [
    "prps = get_properties_InChiKey(n_prods_largest[0].np_info['Standard InCHIKey'])\n",
    "for i, p in enumerate(prps):\n",
    "    print(i, p)"
   ]
  },
  {
   "cell_type": "code",
   "execution_count": 1,
   "metadata": {},
   "outputs": [
    {
     "ename": "NameError",
     "evalue": "name 'n_prods_largest' is not defined",
     "output_type": "error",
     "traceback": [
      "\u001b[0;31m---------------------------------------------------------------------------\u001b[0m",
      "\u001b[0;31mNameError\u001b[0m                                 Traceback (most recent call last)",
      "\u001b[0;32m<ipython-input-1-6c5ace1c1b0f>\u001b[0m in \u001b[0;36m<module>\u001b[0;34m\u001b[0m\n\u001b[1;32m     20\u001b[0m     \u001b[0;32mreturn\u001b[0m \u001b[0mprop_dict\u001b[0m\u001b[0;34m\u001b[0m\u001b[0m\n\u001b[1;32m     21\u001b[0m \u001b[0;34m\u001b[0m\u001b[0m\n\u001b[0;32m---> 22\u001b[0;31m \u001b[0mmol_dict\u001b[0m \u001b[0;34m=\u001b[0m \u001b[0mget_interesting_properties\u001b[0m\u001b[0;34m(\u001b[0m\u001b[0mn_prods_largest\u001b[0m\u001b[0;34m[\u001b[0m\u001b[0;36m0\u001b[0m\u001b[0;34m]\u001b[0m\u001b[0;34m)\u001b[0m\u001b[0;34m\u001b[0m\u001b[0m\n\u001b[0m\u001b[1;32m     23\u001b[0m \u001b[0mprint\u001b[0m\u001b[0;34m(\u001b[0m\u001b[0mmol_dict\u001b[0m\u001b[0;34m[\u001b[0m\u001b[0;34m\"Hydrogen Bond Donor\"\u001b[0m\u001b[0;34m]\u001b[0m\u001b[0;34m)\u001b[0m\u001b[0;34m\u001b[0m\u001b[0m\n\u001b[1;32m     24\u001b[0m \u001b[0;34m\u001b[0m\u001b[0m\n",
      "\u001b[0;31mNameError\u001b[0m: name 'n_prods_largest' is not defined"
     ]
    }
   ],
   "source": [
    "def get_interesting_properties(molecule=None, InChiKey=None):\n",
    "    if molecule is not None:\n",
    "        properties = get_properties_InChiKey(molecule.np_info['Standard InCHIKey'])\n",
    "    elif InChiKey is not None:\n",
    "        properties = get_properties_InChiKey(InChiKey)\n",
    "    \n",
    "    prop_dict = {}\n",
    "    for l in properties:\n",
    "        if l[1] is not None:\n",
    "            if l[0] == 'IUPAC Name':\n",
    "                continue\n",
    "            if l[0] == 'MonoIsotopic':\n",
    "                prop_dict['MonoIsotopic Mass'] = l[2]\n",
    "            else:\n",
    "                prop_dict[l[1]] = l[2]\n",
    "\n",
    "        else:\n",
    "            prop_dict[l[0]] = l[2]\n",
    "\n",
    "    return prop_dict \n",
    "\n",
    "mol_dict = get_interesting_properties(n_prods_largest[0])\n",
    "print(mol_dict[\"Hydrogen Bond Donor\"])\n",
    "\n",
    "mol_dict = get_interesting_properties(InChiKey=\"YIFZKRGUGKLILR-NSCUHMNNSA-N\")\n",
    "print(mol_dict[\"Polar Surface Area\"],mol_dict[\"Compound Complexity\"], mol_dict[\"XLogP3\"],)      \n",
    "print(mol_dict.keys())"
   ]
  },
  {
   "cell_type": "markdown",
   "metadata": {},
   "source": [
    "## Plotting"
   ]
  },
  {
   "cell_type": "code",
   "execution_count": null,
   "metadata": {},
   "outputs": [],
   "source": [
    "fontsize = 16\n",
    "\n",
    "all_freqs = [cyc.frequency for cyc in sess.query(Cycle).all()]\n",
    "\n",
    "my_hist = plt.hist(all_freqs, bins=30, density=False, log=True)\n",
    "\n",
    "plt.title(\"Histogram of Unique Cycle Frequencies\", fontsize=fontsize)\n",
    "plt.ylabel(\"N$_{cycles}$\", fontsize=fontsize)\n",
    "plt.xlabel(\"Frequency\", fontsize=fontsize)\n",
    "\n",
    "plt.show()"
   ]
  },
  {
   "cell_type": "code",
   "execution_count": null,
   "metadata": {},
   "outputs": [],
   "source": [
    "print(\"N_cycles  |  Range of Frequencies\\n=================================\")\n",
    "for i, Ncycles in enumerate(my_hist[0][:]):\n",
    "    print(f\"{int(Ncycles):<9} | {int(my_hist[1][i]):>4} - {int(my_hist[1][i+1]):<4}\")"
   ]
  },
  {
   "cell_type": "code",
   "execution_count": null,
   "metadata": {},
   "outputs": [],
   "source": [
    "fontsize = 16\n",
    "\n",
    "all_tot_lens = [cyc.cycle_separation[0] for cyc in sess.query(Cycle).all()]\n",
    "my_hist = plt.hist(all_tot_lens, bins=30, density=False, rwidth=0.85, log=True)\n",
    "#plt.xticks(np.arange(0,max(all_tot_lens)+11, 11))\n",
    "\n",
    "plt.title(\"Number of unique cycles vs length\", fontsize=fontsize)\n",
    "plt.ylabel(\"N$_{cycles}$\", fontsize=fontsize)\n",
    "plt.xlabel(\"Cycle Length\", fontsize=fontsize)\n",
    "\n",
    "plt.show()"
   ]
  },
  {
   "cell_type": "code",
   "execution_count": null,
   "metadata": {},
   "outputs": [],
   "source": [
    "print(\"N_cycles  |  Range of Cycle Lengths\\n===================================\")\n",
    "for i, Ncycles in enumerate(my_hist[0][:]):\n",
    "    print(f\"{int(Ncycles):<9} | {int(my_hist[1][i]):>4} - {int(my_hist[1][i+1]):<4}\")"
   ]
  },
  {
   "cell_type": "code",
   "execution_count": null,
   "metadata": {},
   "outputs": [],
   "source": [
    "fontsize = 16\n",
    "\n",
    "all_weighted_lens = [[int(cyc.cycle_separation[0])]*cyc.frequency for cyc in sess.query(Cycle).all() [:] ]\n",
    "all_weighted_lens = np.array(all_weighted_lens)\n",
    "all_weighted_lens.flatten()\n",
    "\n",
    "awl = []\n",
    "\n",
    "for lst in all_weighted_lens:\n",
    "    awl.extend(lst)\n",
    "all_weighted_lens = awl\n",
    "\n",
    "#print(all_weighted_lens)\n",
    "\n",
    "my_hist = plt.hist(all_weighted_lens, bins=30, density=False, rwidth=0.85, log=True)\n",
    "#plt.xticks(np.arange(0,max(all_tot_lens)+11, 11))\n",
    "\n",
    "plt.title(\"Frequency-Weighted Number of Cycles vs Length\", fontsize=fontsize)\n",
    "plt.ylabel(\"N$_{cycles}$\", fontsize=fontsize)\n",
    "plt.xlabel(\"Cycle Length\", fontsize=fontsize)\n",
    "\n",
    "plt.show()"
   ]
  },
  {
   "cell_type": "code",
   "execution_count": null,
   "metadata": {},
   "outputs": [],
   "source": [
    "print(\"Frequency weighted N_cycles  |  Range of Cycle Lengths\\n===================================\")\n",
    "for i, Ncycles in enumerate(my_hist[0][:]):\n",
    "    print(f\"{int(Ncycles):<9} | {int(my_hist[1][i]):>4} - {int(my_hist[1][i+1]):<4}\")"
   ]
  },
  {
   "cell_type": "code",
   "execution_count": null,
   "metadata": {},
   "outputs": [],
   "source": [
    "fontsize = 16\n",
    "\n",
    "len_freqs = np.array([(cyc.cycle_separation[0], cyc.frequency) for cyc in sess.query(Cycle).all() [:] ])\n",
    "\n",
    "plt.scatter(len_freqs[:,0], len_freqs[:,1], marker=\"x\")\n",
    "\n",
    "\n",
    "# Logs the y axis\n",
    "plt.yscale(\"log\")\n",
    "\n",
    "plt.title(\"Cycle frequency vs length\", fontsize=fontsize)\n",
    "plt.ylabel(\"N$_{cycles}$\", fontsize=fontsize)\n",
    "plt.xlabel(\"Cycle Length\", fontsize=fontsize)\n",
    "\n",
    "plt.show()"
   ]
  }
 ],
 "metadata": {
  "kernelspec": {
   "display_name": "Python 3",
   "language": "python",
   "name": "python3"
  },
  "language_info": {
   "codemirror_mode": {
    "name": "ipython",
    "version": 3
   },
   "file_extension": ".py",
   "mimetype": "text/x-python",
   "name": "python",
   "nbconvert_exporter": "python",
   "pygments_lexer": "ipython3",
   "version": "3.6.4"
  }
 },
 "nbformat": 4,
 "nbformat_minor": 2
}
