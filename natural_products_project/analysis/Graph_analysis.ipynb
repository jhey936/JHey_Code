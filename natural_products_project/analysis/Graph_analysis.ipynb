{
 "cells": [
  {
   "cell_type": "markdown",
   "metadata": {},
   "source": [
    "## Imports"
   ]
  },
  {
   "cell_type": "code",
   "execution_count": null,
   "metadata": {},
   "outputs": [],
   "source": [
    "import sys\n",
    "\n",
    "# change this to point at your version\n",
    "sys.path.append(\"/home/jch936/Software/natural_products_project/\")\n",
    "\n",
    "import numpy as np\n",
    "import matplotlib.pyplot as plt\n",
    "\n",
    "from natural_products.NaturalProductStorage import *"
   ]
  },
  {
   "cell_type": "markdown",
   "metadata": {},
   "source": [
    "### Load database into memory"
   ]
  },
  {
   "cell_type": "code",
   "execution_count": null,
   "metadata": {},
   "outputs": [],
   "source": [
    "db = Database(\"/home/jch936/temp/n_prods_17k.db\")\n",
    "sess = db.get_session()"
   ]
  },
  {
   "cell_type": "markdown",
   "metadata": {},
   "source": [
    "### Test db.session queries are returning as expected"
   ]
  },
  {
   "cell_type": "code",
   "execution_count": null,
   "metadata": {},
   "outputs": [],
   "source": [
    "sess.query(NaturalProduct).filter(~NaturalProduct.cycles.any()).all() [556]"
   ]
  },
  {
   "cell_type": "markdown",
   "metadata": {},
   "source": [
    "## Plotting"
   ]
  },
  {
   "cell_type": "code",
   "execution_count": null,
   "metadata": {},
   "outputs": [],
   "source": [
    "all_freqs = [cyc.frequency for cyc in sess.query(Cycle).all()]\n",
    "\n",
    "plt.hist(all_freqs, bins=30, density=False, log=True)\n",
    "\n",
    "plt.title(\"Histogram of Unique Cycle Frequencies\", fontsize=fontsize)\n",
    "plt.ylabel(\"log(N$_{cycles}$)\", fontsize=fontsize)\n",
    "plt.xlabel(\"Frequency\", fontsize=fontsize)\n",
    "\n",
    "plt.show()"
   ]
  },
  {
   "cell_type": "code",
   "execution_count": null,
   "metadata": {},
   "outputs": [],
   "source": [
    "fontsize = 16\n",
    "\n",
    "all_tot_lens = [cyc.cycle_separation[0] for cyc in sess.query(Cycle).all()]\n",
    "plt.hist(all_tot_lens, bins=30, density=False, rwidth=0.85, log=True)\n",
    "#plt.xticks(np.arange(0,max(all_tot_lens)+11, 11))\n",
    "\n",
    "plt.title(\"Number of unique cycles vs length\", fontsize=fontsize)\n",
    "plt.ylabel(\"log(N$_{cycles}$)\", fontsize=fontsize)\n",
    "plt.xlabel(\"Cycle Length\", fontsize=fontsize)\n",
    "\n",
    "plt.show()"
   ]
  },
  {
   "cell_type": "code",
   "execution_count": null,
   "metadata": {},
   "outputs": [],
   "source": [
    "fontsize = 16\n",
    "\n",
    "all_weighted_lens = [[int(cyc.cycle_separation[0])]*cyc.frequency for cyc in sess.query(Cycle).all() [:] ]\n",
    "all_weighted_lens = np.array(all_weighted_lens)\n",
    "all_weighted_lens.flatten()\n",
    "\n",
    "awl = []\n",
    "\n",
    "for lst in all_weighted_lens:\n",
    "    awl.extend(lst)\n",
    "all_weighted_lens = awl\n",
    "\n",
    "#print(all_weighted_lens)\n",
    "\n",
    "plt.hist(all_weighted_lens, bins=30, density=False, rwidth=0.85, log=True)\n",
    "#plt.xticks(np.arange(0,max(all_tot_lens)+11, 11))\n",
    "\n",
    "plt.title(\"Frequency-Weighted Number of Cycles vs Length\", fontsize=fontsize)\n",
    "plt.ylabel(\"log(N$_{cycles}$)\", fontsize=fontsize)\n",
    "plt.xlabel(\"Cycle Length\", fontsize=fontsize)\n",
    "\n",
    "plt.show()"
   ]
  },
  {
   "cell_type": "code",
   "execution_count": null,
   "metadata": {},
   "outputs": [],
   "source": [
    "fontsize = 16\n",
    "\n",
    "len_freqs = np.array([(cyc.cycle_separation[0], cyc.frequency) for cyc in sess.query(Cycle).all() [:] ])\n",
    "\n",
    "plt.scatter(len_freqs[:,0], len_freqs[:,1], marker=\"x\")\n",
    "\n",
    "\n",
    "# Logs the y axis\n",
    "plt.yscale(\"log\")\n",
    "\n",
    "plt.title(\"Cycle frequency vs length\", fontsize=fontsize)\n",
    "plt.ylabel(\"log(N$_{cycles}$)\", fontsize=fontsize)\n",
    "plt.xlabel(\"Cycle Length\", fontsize=fontsize)\n",
    "\n",
    "plt.show()"
   ]
  }
 ],
 "metadata": {
  "kernelspec": {
   "display_name": "Python 3",
   "language": "python",
   "name": "python3"
  },
  "language_info": {
   "codemirror_mode": {
    "name": "ipython",
    "version": 3
   },
   "file_extension": ".py",
   "mimetype": "text/x-python",
   "name": "python",
   "nbconvert_exporter": "python",
   "pygments_lexer": "ipython3",
   "version": "3.7.0"
  }
 },
 "nbformat": 4,
 "nbformat_minor": 2
}
