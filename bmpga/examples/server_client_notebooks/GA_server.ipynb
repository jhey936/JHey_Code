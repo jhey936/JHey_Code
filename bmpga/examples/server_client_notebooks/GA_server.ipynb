{
 "cells": [
  {
   "cell_type": "code",
   "execution_count": 1,
   "metadata": {
    "collapsed": true
   },
   "outputs": [],
   "source": [
    "import logging\n",
    "import Pyro4\n",
    "\n",
    "import numpy as np\n",
    "\n",
    "from bmpga.mating.selectors import BaseSelector \n",
    "from bmpga.characterization import SimpleCharacterizer\n",
    "from bmpga.storage import Database, Cluster, Molecule\n",
    "from bmpga.systems import DefineSystem\n",
    "from bmpga.optimisation import PoolGA"
   ]
  },
  {
   "cell_type": "code",
   "execution_count": 2,
   "metadata": {
    "collapsed": false
   },
   "outputs": [
    {
     "name": "stdout",
     "output_type": "stream",
     "text": [
      "2018-06-10 17:31:31,384 - bmpga.storage.database - WARNING - File test.db exists and new_database is True. This file is being overwritten.\n",
      "2018-06-10 17:31:31,424 - __main__ - INFO - Initialising RandomClusters with box_length = 6\n",
      "\n"
     ]
    }
   ],
   "source": [
    "log = logging.getLogger(__name__)\n",
    "\n",
    "compare = SimpleCharacterizer()\n",
    "database = Database(db=\"test.db\",\n",
    "                    new_database=True,\n",
    "                    compare_clusters=SimpleCharacterizer(accuracy=5e-7))\n",
    "\n",
    "lj = Molecule(coordinates=np.array([[0.0, 0.0, 0.0]]), particle_names=[\"LJ\"])\n",
    "system = DefineSystem(numbers_of_molecules=[13], molecules=[lj], log=log, box_length=6)"
   ]
  },
  {
   "cell_type": "code",
   "execution_count": 3,
   "metadata": {
    "collapsed": false
   },
   "outputs": [
    {
     "name": "stdout",
     "output_type": "stream",
     "text": [
      "2018-06-10 17:31:31,777 - __main__ - INFO - Using database: <bmpga.storage.Database @ test.db>\n",
      "\n",
      "2018-06-10 17:31:31,793 - __main__ - DEBUG - Starting GA thread and result thread\n",
      "2018-06-10 17:31:31,804 - __main__ - DEBUG - started thread in process_returned\n",
      "2018-06-10 17:31:31,805 - __main__ - INFO - Beginning global optimisation of <bmpga.systems.define_system.DefineSystem object at 0x7f8474d90da0>. At None\n",
      "        Using version 0.1 of BMPGA\n",
      "2018-06-10 17:31:31,806 - __main__ - INFO - Starting the server event loop\n",
      "2018-06-10 17:31:31,842 - __main__ - DEBUG - Pool not full: 0 < 10. Generating random cluster.\n",
      "2018-06-10 17:31:31,886 - __main__ - DEBUG - minimum separation < max(molecule_diameter): 0.8731560176047218 < 3\n",
      "Cluster accepted\n",
      "2018-06-10 17:31:31,964 - __main__ - INFO - Returning random cluster found after 1 attempts using a final box_length of 6.0.\n",
      "2018-06-10 17:31:32,023 - __main__ - DEBUG - Pool not full: 0 < 10. Generating random cluster.\n",
      "2018-06-10 17:31:32,195 - __main__ - DEBUG - minimum separation < max(molecule_diameter): 0.884895862088379 < 3\n",
      "Cluster accepted\n",
      "2018-06-10 17:31:32,276 - __main__ - INFO - Returning random cluster found after 1 attempts using a final box_length of 6.0.\n",
      "2018-06-10 17:31:32,344 - __main__ - DEBUG - Pool not full: 0 < 10. Generating random cluster.\n",
      "2018-06-10 17:31:32,556 - __main__ - DEBUG - minimum separation < max(molecule_diameter): 0.22301032408764898 < 3\n",
      "Cluster accepted\n",
      "2018-06-10 17:31:32,598 - __main__ - INFO - Returning random cluster found after 1 attempts using a final box_length of 6.0.\n",
      "2018-06-10 17:31:32,676 - __main__ - DEBUG - Pool not full: 0 < 10. Generating random cluster.\n",
      "2018-06-10 17:31:32,882 - __main__ - DEBUG - minimum separation < max(molecule_diameter): 0.7695806649033577 < 3\n",
      "Cluster accepted\n",
      "2018-06-10 17:31:32,903 - __main__ - INFO - Returning random cluster found after 1 attempts using a final box_length of 6.0.\n",
      "2018-06-10 17:31:32,932 - __main__ - DEBUG - Pool not full: 0 < 10. Generating random cluster.\n",
      "2018-06-10 17:31:33,151 - __main__ - DEBUG - minimum separation < max(molecule_diameter): 0.5502981288590911 < 3\n",
      "Cluster accepted\n",
      "2018-06-10 17:31:33,178 - __main__ - INFO - Returning random cluster found after 1 attempts using a final box_length of 6.0.\n",
      "2018-06-10 17:31:33,237 - __main__ - DEBUG - Pool not full: 0 < 10. Generating random cluster.\n",
      "2018-06-10 17:31:33,403 - __main__ - DEBUG - minimum separation < max(molecule_diameter): 0.3963692914421731 < 3\n",
      "Cluster accepted\n",
      "2018-06-10 17:31:33,460 - __main__ - INFO - Returning random cluster found after 1 attempts using a final box_length of 6.0.\n",
      "2018-06-10 17:31:33,534 - __main__ - DEBUG - Pool not full: 0 < 10. Generating random cluster.\n",
      "2018-06-10 17:31:33,708 - __main__ - DEBUG - minimum separation < max(molecule_diameter): 0.38680264713591556 < 3\n",
      "Cluster accepted\n",
      "2018-06-10 17:31:33,739 - __main__ - INFO - Returning random cluster found after 1 attempts using a final box_length of 6.0.\n",
      "2018-06-10 17:31:33,802 - __main__ - DEBUG - Pool not full: 0 < 10. Generating random cluster.\n",
      "2018-06-10 17:31:34,054 - __main__ - DEBUG - minimum separation < max(molecule_diameter): 0.5932237124220966 < 3\n",
      "Cluster accepted\n",
      "2018-06-10 17:31:34,102 - __main__ - INFO - Returning random cluster found after 1 attempts using a final box_length of 6.0.\n",
      "2018-06-10 17:31:34,151 - __main__ - DEBUG - Pool not full: 0 < 10. Generating random cluster.\n",
      "2018-06-10 17:31:34,320 - __main__ - DEBUG - minimum separation < max(molecule_diameter): 0.6477147629006234 < 3\n",
      "Cluster accepted\n",
      "2018-06-10 17:31:34,342 - __main__ - INFO - Returning random cluster found after 1 attempts using a final box_length of 6.0.\n",
      "2018-06-10 17:31:34,374 - __main__ - DEBUG - Pool not full: 0 < 10. Generating random cluster.\n",
      "2018-06-10 17:31:34,585 - __main__ - DEBUG - minimum separation < max(molecule_diameter): 0.5432659476748747 < 3\n",
      "Cluster accepted\n",
      "2018-06-10 17:31:34,625 - __main__ - INFO - Returning random cluster found after 1 attempts using a final box_length of 6.0.\n",
      "2018-06-10 17:31:42,113 - __main__ - INFO - New worker 129983989664054829691327285210451767697 registered\n",
      "2018-06-10 17:31:42,117 - __main__ - INFO - Job assigned to worker: 129983989664054829691327285210451767697\n",
      "2018-06-10 17:31:42,571 - __main__ - INFO - Job assigned to worker: 129983989664054829691327285210451767697\n"
     ]
    },
    {
     "name": "stderr",
     "output_type": "stream",
     "text": [
      "Exception in thread Thread-8:\n",
      "Traceback (most recent call last):\n",
      "  File \"/home/john/.local/anaconda3/lib/python3.6/threading.py\", line 916, in _bootstrap_inner\n",
      "    self.run()\n",
      "  File \"/home/john/.local/anaconda3/lib/python3.6/threading.py\", line 864, in run\n",
      "    self._target(*self._args, **self._kwargs)\n",
      "  File \"/home/john/Software/bmpga/bmpga/optimisation/pool_GA.py\", line 223, in process_returned\n",
      "    if self.check_unique_structure(result):\n",
      "AttributeError: 'PoolGA' object has no attribute 'check_unique_structure'\n",
      "\n"
     ]
    },
    {
     "name": "stdout",
     "output_type": "stream",
     "text": [
      "2018-06-10 17:31:42,864 - __main__ - INFO - Job assigned to worker: 129983989664054829691327285210451767697\n",
      "2018-06-10 17:31:43,369 - __main__ - INFO - Job assigned to worker: 129983989664054829691327285210451767697\n",
      "2018-06-10 17:31:43,805 - __main__ - INFO - Job assigned to worker: 129983989664054829691327285210451767697\n",
      "2018-06-10 17:31:44,150 - __main__ - INFO - Job assigned to worker: 129983989664054829691327285210451767697\n",
      "2018-06-10 17:31:44,548 - __main__ - INFO - Job assigned to worker: 129983989664054829691327285210451767697\n",
      "2018-06-10 17:31:44,998 - __main__ - INFO - Job assigned to worker: 129983989664054829691327285210451767697\n",
      "2018-06-10 17:31:45,399 - __main__ - INFO - Job assigned to worker: 129983989664054829691327285210451767697\n",
      "2018-06-10 17:31:45,758 - __main__ - INFO - Job assigned to worker: 129983989664054829691327285210451767697\n",
      "2018-06-10 17:31:46,337 - __main__ - INFO - Job assigned to worker: 129983989664054829691327285210451767697\n",
      "2018-06-10 17:31:46,939 - __main__ - INFO - Job assigned to worker: 129983989664054829691327285210451767697\n"
     ]
    }
   ],
   "source": [
    "daemon = Pyro4.Daemon(port=9939)\n",
    "\n",
    "GA = PoolGA(database=database, \n",
    "            min_pool_size=10, \n",
    "            max_generations=2,\n",
    "            system=system, \n",
    "            daemon=daemon,\n",
    "            log=log)\n",
    "\n",
    "with open(\"example.uri\", \"w\") as f:\n",
    "    uri = daemon.register(GA)\n",
    "    f.write(str(uri))\n",
    "\n",
    "GA.start_threads()\n",
    "daemon.requestLoop()\n",
    "daemon.shutdown()"
   ]
  },
  {
   "cell_type": "code",
   "execution_count": 5,
   "metadata": {
    "collapsed": false
   },
   "outputs": [
    {
     "name": "stdout",
     "output_type": "stream",
     "text": [
      "<Cluster (ID=15, Energy=-40.67379777793193, Found at step:5)>\n",
      "2018-06-10 16:07:58,300 - bmpga.utils.io_utils - WARNING - File gm.xyz exists! This file has been moved to 325328gm.xyz rather than be overwritten with 1 structures.\n",
      "splash_image=jar:file:/usr/share/java/Jmol-12.2.32.jar!/org/openscience/jmol/app/images/Jmol_splash.jpg\n",
      "history file is /home/john/.jmol/history\n",
      "1822 script command tokens\n",
      "(C) 2012 Jmol Development\n",
      "Jmol Version: 12.2.32  2012-06-24 02:39\n",
      "java.vendor: Oracle Corporation\n",
      "java.version: 1.8.0_171\n",
      "os.name: Linux\n",
      "memory: 27.7/124.8\n",
      "processors available: 4\n",
      "useCommandThread: false\n",
      "User macros dir: /home/john/.jmol/macros\n",
      "       exists: false\n",
      "  isDirectory: false\n",
      "Executing script: load \"gm.xyz\";\n",
      "\n",
      "FileManager.getAtomSetCollectionFromFile(gm.xyz)\n",
      "FileManager opening /home/john/Software/bmpga/examples/server_client_notebooks/gm.xyz\n",
      "The Resolver thinks Xyz\n",
      "openFile(gm.xyz): 85 ms\n",
      "reading 13 atoms\n",
      "ModelSet: haveSymmetry:false haveUnitcells:false haveFractionalCoord:false\n",
      "1 model in this collection. Use getProperty \"modelInfo\" or getProperty \"auxiliaryInfo\" to inspect them.\n",
      "'LJ' is not a recognized symbol\n",
      "'LJ' is not a recognized symbol\n",
      "'LJ' is not a recognized symbol\n",
      "'LJ' is not a recognized symbol\n",
      "'LJ' is not a recognized symbol\n",
      "'LJ' is not a recognized symbol\n",
      "'LJ' is not a recognized symbol\n",
      "'LJ' is not a recognized symbol\n",
      "'LJ' is not a recognized symbol\n",
      "'LJ' is not a recognized symbol\n",
      "'LJ' is not a recognized symbol\n",
      "'LJ' is not a recognized symbol\n",
      "'LJ' is not a recognized symbol\n",
      "Default Van der Waals type for model set to Babel\n",
      "13 atoms created\n",
      "Time to autoBond: 3 ms\n",
      "ModelSet: autobonding; use  autobond=false  to not generate bonds automatically\n"
     ]
    }
   ],
   "source": [
    "from bmpga.utils.io_utils import XYZWriter\n",
    "gm = GA.database.get_global_minimum()\n",
    "print(gm)\n",
    "writer = XYZWriter()\n",
    "writer.write(filename=\"gm.xyz\", structures=gm, file_mode=\"w\")\n",
    "!jmol gm.xyz"
   ]
  },
  {
   "cell_type": "code",
   "execution_count": null,
   "metadata": {
    "collapsed": false
   },
   "outputs": [],
   "source": [
    "GA.write_pool_to_file(\"pool.xyz\")"
   ]
  }
 ],
 "metadata": {
  "kernelspec": {
   "display_name": "my-virtualenv-name",
   "language": "python",
   "name": "my-virtualenv-name"
  },
  "language_info": {
   "codemirror_mode": {
    "name": "ipython",
    "version": 3
   },
   "file_extension": ".py",
   "mimetype": "text/x-python",
   "name": "python",
   "nbconvert_exporter": "python",
   "pygments_lexer": "ipython3",
   "version": "3.6.4"
  }
 },
 "nbformat": 4,
 "nbformat_minor": 2
}
