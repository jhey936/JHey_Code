{
 "cells": [
  {
   "cell_type": "markdown",
   "metadata": {},
   "source": [
    "# Example use of a QuenchClient\n",
    "\n",
    "### Part of BMPGA by John Hey \n",
    "\n",
    "##### Contact me: \n",
    "jch936@bham.ac.uk, jhey936@gmail.com, jch936 (github), john-hey (bitbucket), @John_Hey_ (Twitter)\n"
   ]
  },
  {
   "cell_type": "code",
   "execution_count": 1,
   "metadata": {
    "collapsed": false
   },
   "outputs": [],
   "source": [
    "import logging\n",
    "\n",
    "from bmpga.potentials import LJcPotential\n",
    "from bmpga.optimisation import QuenchClient"
   ]
  },
  {
   "cell_type": "markdown",
   "metadata": {},
   "source": [
    "Sets up the potential and reads in the server uri   "
   ]
  },
  {
   "cell_type": "code",
   "execution_count": 3,
   "metadata": {
    "collapsed": false
   },
   "outputs": [
    {
     "name": "stdout",
     "output_type": "stream",
     "text": [
      "2018-06-10 14:46:24,184 - __main__ - DEBUG - Initialising: QuenchClient object: 20102714203302600276360052810631196528\n",
      "GA URI: PYRO:obj_35318cbc36aa43f6b9e56ca8903b3a54@localhost:9939\n",
      "2018-06-10 14:46:24,186 - __main__ - INFO - Starting: QuenchClient object: 20102714203302600276360052810631196528\n",
      "2018-06-10 14:46:24,188 - __main__ - DEBUG - QuenchClient object: 20102714203302600276360052810631196528: beginning job 1\n",
      "2018-06-10 14:46:24,227 - __main__ - DEBUG - Quench process: 20102714203302600276360052810631196528 received job number 1: minimize <Cluster (ID=None, Energy=0.0, Found at step:None)> from GA server\n",
      "2018-06-10 14:46:24,618 - __main__ - INFO - QuenchClient object: 20102714203302600276360052810631196528: returning cluster: <Cluster (ID=None, Energy=-25.60966249323005, Found at step:None)> from job: 1\n",
      "2018-06-10 14:46:24,636 - __main__ - DEBUG - QuenchClient object: 20102714203302600276360052810631196528: ending job 1\n",
      "2018-06-10 14:46:24,638 - __main__ - DEBUG - QuenchClient object: 20102714203302600276360052810631196528: beginning job 2\n",
      "2018-06-10 14:46:24,645 - __main__ - DEBUG - Quench process: 20102714203302600276360052810631196528 received job number 2: minimize <Cluster (ID=None, Energy=0.0, Found at step:None)> from GA server\n",
      "2018-06-10 14:46:25,039 - __main__ - INFO - QuenchClient object: 20102714203302600276360052810631196528: returning cluster: <Cluster (ID=None, Energy=-21.7786846572583, Found at step:None)> from job: 2\n",
      "2018-06-10 14:46:25,062 - __main__ - DEBUG - QuenchClient object: 20102714203302600276360052810631196528: ending job 2\n",
      "2018-06-10 14:46:25,064 - __main__ - DEBUG - QuenchClient object: 20102714203302600276360052810631196528: beginning job 3\n",
      "2018-06-10 14:46:25,067 - __main__ - DEBUG - Quench process: 20102714203302600276360052810631196528 received job number 3: minimize <Cluster (ID=None, Energy=0.0, Found at step:None)> from GA server\n",
      "2018-06-10 14:46:25,512 - __main__ - INFO - QuenchClient object: 20102714203302600276360052810631196528: returning cluster: <Cluster (ID=None, Energy=-16.533899833700286, Found at step:None)> from job: 3\n",
      "2018-06-10 14:46:25,531 - __main__ - DEBUG - QuenchClient object: 20102714203302600276360052810631196528: ending job 3\n",
      "2018-06-10 14:46:25,533 - __main__ - DEBUG - QuenchClient object: 20102714203302600276360052810631196528: beginning job 4\n",
      "2018-06-10 14:46:25,539 - __main__ - DEBUG - Quench process: 20102714203302600276360052810631196528 received job number 4: minimize <Cluster (ID=None, Energy=0.0, Found at step:None)> from GA server\n",
      "2018-06-10 14:46:25,755 - __main__ - INFO - QuenchClient object: 20102714203302600276360052810631196528: returning cluster: <Cluster (ID=None, Energy=-6.001449928534344, Found at step:None)> from job: 4\n",
      "2018-06-10 14:46:25,773 - __main__ - DEBUG - QuenchClient object: 20102714203302600276360052810631196528: ending job 4\n",
      "2018-06-10 14:46:25,774 - __main__ - DEBUG - QuenchClient object: 20102714203302600276360052810631196528: beginning job 5\n",
      "2018-06-10 14:46:25,778 - __main__ - DEBUG - Quench process: 20102714203302600276360052810631196528 received job number 5: minimize <Cluster (ID=None, Energy=0.0, Found at step:None)> from GA server\n",
      "2018-06-10 14:46:26,054 - __main__ - INFO - QuenchClient object: 20102714203302600276360052810631196528: returning cluster: <Cluster (ID=None, Energy=-11.104264761062517, Found at step:None)> from job: 5\n",
      "2018-06-10 14:46:26,063 - __main__ - DEBUG - QuenchClient object: 20102714203302600276360052810631196528: ending job 5\n",
      "2018-06-10 14:46:26,065 - __main__ - DEBUG - QuenchClient object: 20102714203302600276360052810631196528: beginning job 6\n",
      "2018-06-10 14:46:26,068 - __main__ - DEBUG - Quench process: 20102714203302600276360052810631196528 received job number 6: minimize <Cluster (ID=None, Energy=0.0, Found at step:None)> from GA server\n",
      "2018-06-10 14:46:26,397 - __main__ - INFO - QuenchClient object: 20102714203302600276360052810631196528: returning cluster: <Cluster (ID=None, Energy=-10.104369853166375, Found at step:None)> from job: 6\n",
      "2018-06-10 14:46:26,414 - __main__ - DEBUG - QuenchClient object: 20102714203302600276360052810631196528: ending job 6\n",
      "2018-06-10 14:46:26,416 - __main__ - DEBUG - QuenchClient object: 20102714203302600276360052810631196528: beginning job 7\n",
      "2018-06-10 14:46:26,421 - __main__ - DEBUG - Quench process: 20102714203302600276360052810631196528 received job number 7: minimize <Cluster (ID=None, Energy=0.0, Found at step:None)> from GA server\n",
      "2018-06-10 14:46:26,650 - __main__ - INFO - QuenchClient object: 20102714203302600276360052810631196528: returning cluster: <Cluster (ID=None, Energy=-9.000488849949164, Found at step:None)> from job: 7\n",
      "2018-06-10 14:46:26,668 - __main__ - DEBUG - QuenchClient object: 20102714203302600276360052810631196528: ending job 7\n",
      "2018-06-10 14:46:26,671 - __main__ - DEBUG - QuenchClient object: 20102714203302600276360052810631196528: beginning job 8\n",
      "2018-06-10 14:46:26,677 - __main__ - DEBUG - Quench process: 20102714203302600276360052810631196528 received job number 8: minimize <Cluster (ID=None, Energy=0.0, Found at step:None)> from GA server\n",
      "2018-06-10 14:46:27,020 - __main__ - INFO - QuenchClient object: 20102714203302600276360052810631196528: returning cluster: <Cluster (ID=None, Energy=-12.304625410544876, Found at step:None)> from job: 8\n",
      "2018-06-10 14:46:27,038 - __main__ - DEBUG - QuenchClient object: 20102714203302600276360052810631196528: ending job 8\n",
      "2018-06-10 14:46:27,038 - __main__ - DEBUG - QuenchClient object: 20102714203302600276360052810631196528: beginning job 9\n",
      "2018-06-10 14:46:27,044 - __main__ - DEBUG - Quench process: 20102714203302600276360052810631196528 received job number 9: minimize <Cluster (ID=None, Energy=0.0, Found at step:None)> from GA server\n",
      "2018-06-10 14:46:27,116 - __main__ - INFO - QuenchClient object: 20102714203302600276360052810631196528: returning cluster: <Cluster (ID=None, Energy=-12.105148568171574, Found at step:None)> from job: 9\n",
      "2018-06-10 14:46:27,135 - __main__ - DEBUG - QuenchClient object: 20102714203302600276360052810631196528: ending job 9\n",
      "2018-06-10 14:46:27,136 - __main__ - DEBUG - QuenchClient object: 20102714203302600276360052810631196528: beginning job 10\n",
      "2018-06-10 14:46:27,655 - __main__ - DEBUG - Quench process: 20102714203302600276360052810631196528 received job number 10: minimize <Cluster (ID=None, Energy=0.0, Found at step:None)> from GA server\n",
      "2018-06-10 14:46:27,757 - __main__ - INFO - QuenchClient object: 20102714203302600276360052810631196528: returning cluster: <Cluster (ID=None, Energy=-18.533575502734642, Found at step:None)> from job: 10\n",
      "2018-06-10 14:46:27,765 - __main__ - DEBUG - QuenchClient object: 20102714203302600276360052810631196528: ending job 10\n",
      "2018-06-10 14:46:27,766 - __main__ - DEBUG - QuenchClient object: 20102714203302600276360052810631196528: beginning job 11\n",
      "2018-06-10 14:46:29,014 - __main__ - DEBUG - Quench process: 20102714203302600276360052810631196528 received job number 11: minimize <Cluster (ID=None, Energy=0.0, Found at step:None)> from GA server\n",
      "2018-06-10 14:46:29,144 - __main__ - INFO - QuenchClient object: 20102714203302600276360052810631196528: returning cluster: <Cluster (ID=None, Energy=-16.533739773031318, Found at step:None)> from job: 11\n",
      "2018-06-10 14:46:29,162 - __main__ - DEBUG - QuenchClient object: 20102714203302600276360052810631196528: ending job 11\n",
      "2018-06-10 14:46:29,163 - __main__ - DEBUG - QuenchClient object: 20102714203302600276360052810631196528: beginning job 12\n"
     ]
    },
    {
     "ename": "SerializeError",
     "evalue": "unsupported serialized class: queue.Empty",
     "output_type": "error",
     "traceback": [
      "\u001b[0;31m---------------------------------------------------------------------------\u001b[0m",
      "\u001b[0;31mSerializeError\u001b[0m                            Traceback (most recent call last)",
      "\u001b[0;32m<ipython-input-3-028addfcaf9a>\u001b[0m in \u001b[0;36m<module>\u001b[0;34m()\u001b[0m\n\u001b[1;32m      8\u001b[0m \u001b[0mquencher\u001b[0m \u001b[0;34m=\u001b[0m \u001b[0mQuenchClient\u001b[0m\u001b[0;34m(\u001b[0m\u001b[0mpotential\u001b[0m\u001b[0;34m=\u001b[0m\u001b[0mLJ_pot\u001b[0m\u001b[0;34m,\u001b[0m \u001b[0mURI\u001b[0m\u001b[0;34m=\u001b[0m\u001b[0muri\u001b[0m\u001b[0;34m,\u001b[0m \u001b[0mmax_quenches\u001b[0m\u001b[0;34m=\u001b[0m\u001b[0;36m50\u001b[0m\u001b[0;34m,\u001b[0m \u001b[0mlog\u001b[0m\u001b[0;34m=\u001b[0m\u001b[0mlog\u001b[0m\u001b[0;34m)\u001b[0m\u001b[0;34m\u001b[0m\u001b[0m\n\u001b[1;32m      9\u001b[0m \u001b[0;34m\u001b[0m\u001b[0m\n\u001b[0;32m---> 10\u001b[0;31m \u001b[0mquencher\u001b[0m\u001b[0;34m.\u001b[0m\u001b[0mrun\u001b[0m\u001b[0;34m(\u001b[0m\u001b[0;34m)\u001b[0m\u001b[0;34m\u001b[0m\u001b[0m\n\u001b[0m",
      "\u001b[0;32m~/Software/bmpga/bmpga/optimisation/quench_client.py\u001b[0m in \u001b[0;36mrun\u001b[0;34m(self)\u001b[0m\n\u001b[1;32m    172\u001b[0m \u001b[0;34m\u001b[0m\u001b[0m\n\u001b[1;32m    173\u001b[0m             \u001b[0mself\u001b[0m\u001b[0;34m.\u001b[0m\u001b[0mlog\u001b[0m\u001b[0;34m.\u001b[0m\u001b[0mdebug\u001b[0m\u001b[0;34m(\u001b[0m\u001b[0;34m\"{}: beginning job {}\"\u001b[0m\u001b[0;34m.\u001b[0m\u001b[0mformat\u001b[0m\u001b[0;34m(\u001b[0m\u001b[0mself\u001b[0m\u001b[0;34m,\u001b[0m \u001b[0mquench\u001b[0m\u001b[0;34m)\u001b[0m\u001b[0;34m)\u001b[0m\u001b[0;34m\u001b[0m\u001b[0m\n\u001b[0;32m--> 174\u001b[0;31m             \u001b[0mjob\u001b[0m \u001b[0;34m=\u001b[0m \u001b[0mself\u001b[0m\u001b[0;34m.\u001b[0m\u001b[0mGA\u001b[0m\u001b[0;34m.\u001b[0m\u001b[0mget_job\u001b[0m\u001b[0;34m(\u001b[0m\u001b[0mself\u001b[0m\u001b[0;34m.\u001b[0m\u001b[0mid\u001b[0m\u001b[0;34m)\u001b[0m\u001b[0;34m\u001b[0m\u001b[0m\n\u001b[0m\u001b[1;32m    175\u001b[0m \u001b[0;34m\u001b[0m\u001b[0m\n\u001b[1;32m    176\u001b[0m             \u001b[0mjob\u001b[0m \u001b[0;34m=\u001b[0m \u001b[0mloads\u001b[0m\u001b[0;34m(\u001b[0m\u001b[0mb64decode\u001b[0m\u001b[0;34m(\u001b[0m\u001b[0mjob\u001b[0m\u001b[0;34m[\u001b[0m\u001b[0;34m\"data\"\u001b[0m\u001b[0;34m]\u001b[0m\u001b[0;34m)\u001b[0m\u001b[0;34m)\u001b[0m\u001b[0;34m\u001b[0m\u001b[0m\n",
      "\u001b[0;32m~/.local/share/virtualenvs/bmpga-LFVHaC5E/lib/python3.6/site-packages/Pyro4/core.py\u001b[0m in \u001b[0;36m__call__\u001b[0;34m(self, *args, **kwargs)\u001b[0m\n\u001b[1;32m    183\u001b[0m         \u001b[0;32mfor\u001b[0m \u001b[0mattempt\u001b[0m \u001b[0;32min\u001b[0m \u001b[0mrange\u001b[0m\u001b[0;34m(\u001b[0m\u001b[0mself\u001b[0m\u001b[0;34m.\u001b[0m\u001b[0m__max_retries\u001b[0m \u001b[0;34m+\u001b[0m \u001b[0;36m1\u001b[0m\u001b[0;34m)\u001b[0m\u001b[0;34m:\u001b[0m\u001b[0;34m\u001b[0m\u001b[0m\n\u001b[1;32m    184\u001b[0m             \u001b[0;32mtry\u001b[0m\u001b[0;34m:\u001b[0m\u001b[0;34m\u001b[0m\u001b[0m\n\u001b[0;32m--> 185\u001b[0;31m                 \u001b[0;32mreturn\u001b[0m \u001b[0mself\u001b[0m\u001b[0;34m.\u001b[0m\u001b[0m__send\u001b[0m\u001b[0;34m(\u001b[0m\u001b[0mself\u001b[0m\u001b[0;34m.\u001b[0m\u001b[0m__name\u001b[0m\u001b[0;34m,\u001b[0m \u001b[0margs\u001b[0m\u001b[0;34m,\u001b[0m \u001b[0mkwargs\u001b[0m\u001b[0;34m)\u001b[0m\u001b[0;34m\u001b[0m\u001b[0m\n\u001b[0m\u001b[1;32m    186\u001b[0m             \u001b[0;32mexcept\u001b[0m \u001b[0;34m(\u001b[0m\u001b[0merrors\u001b[0m\u001b[0;34m.\u001b[0m\u001b[0mConnectionClosedError\u001b[0m\u001b[0;34m,\u001b[0m \u001b[0merrors\u001b[0m\u001b[0;34m.\u001b[0m\u001b[0mTimeoutError\u001b[0m\u001b[0;34m)\u001b[0m\u001b[0;34m:\u001b[0m\u001b[0;34m\u001b[0m\u001b[0m\n\u001b[1;32m    187\u001b[0m                 \u001b[0;31m# only retry for recoverable network errors\u001b[0m\u001b[0;34m\u001b[0m\u001b[0;34m\u001b[0m\u001b[0m\n",
      "\u001b[0;32m~/.local/share/virtualenvs/bmpga-LFVHaC5E/lib/python3.6/site-packages/Pyro4/core.py\u001b[0m in \u001b[0;36m_pyroInvoke\u001b[0;34m(self, methodname, vargs, kwargs, flags, objectId)\u001b[0m\n\u001b[1;32m    465\u001b[0m                         \u001b[0mmsg\u001b[0m\u001b[0;34m.\u001b[0m\u001b[0mdecompress_if_needed\u001b[0m\u001b[0;34m(\u001b[0m\u001b[0;34m)\u001b[0m\u001b[0;34m\u001b[0m\u001b[0m\n\u001b[1;32m    466\u001b[0m                         \u001b[0;32mreturn\u001b[0m \u001b[0mmsg\u001b[0m\u001b[0;34m\u001b[0m\u001b[0m\n\u001b[0;32m--> 467\u001b[0;31m                     \u001b[0mdata\u001b[0m \u001b[0;34m=\u001b[0m \u001b[0mserializer\u001b[0m\u001b[0;34m.\u001b[0m\u001b[0mdeserializeData\u001b[0m\u001b[0;34m(\u001b[0m\u001b[0mmsg\u001b[0m\u001b[0;34m.\u001b[0m\u001b[0mdata\u001b[0m\u001b[0;34m,\u001b[0m \u001b[0mcompressed\u001b[0m\u001b[0;34m=\u001b[0m\u001b[0mmsg\u001b[0m\u001b[0;34m.\u001b[0m\u001b[0mflags\u001b[0m \u001b[0;34m&\u001b[0m \u001b[0mmessage\u001b[0m\u001b[0;34m.\u001b[0m\u001b[0mFLAGS_COMPRESSED\u001b[0m\u001b[0;34m)\u001b[0m\u001b[0;34m\u001b[0m\u001b[0m\n\u001b[0m\u001b[1;32m    468\u001b[0m                     \u001b[0;32mif\u001b[0m \u001b[0mmsg\u001b[0m\u001b[0;34m.\u001b[0m\u001b[0mflags\u001b[0m \u001b[0;34m&\u001b[0m \u001b[0mmessage\u001b[0m\u001b[0;34m.\u001b[0m\u001b[0mFLAGS_ITEMSTREAMRESULT\u001b[0m\u001b[0;34m:\u001b[0m\u001b[0;34m\u001b[0m\u001b[0m\n\u001b[1;32m    469\u001b[0m                         \u001b[0mstreamId\u001b[0m \u001b[0;34m=\u001b[0m \u001b[0mmsg\u001b[0m\u001b[0;34m.\u001b[0m\u001b[0mannotations\u001b[0m\u001b[0;34m.\u001b[0m\u001b[0mget\u001b[0m\u001b[0;34m(\u001b[0m\u001b[0;34m\"STRM\"\u001b[0m\u001b[0;34m,\u001b[0m \u001b[0;34mb\"\"\u001b[0m\u001b[0;34m)\u001b[0m\u001b[0;34m.\u001b[0m\u001b[0mdecode\u001b[0m\u001b[0;34m(\u001b[0m\u001b[0;34m)\u001b[0m\u001b[0;34m\u001b[0m\u001b[0m\n",
      "\u001b[0;32m~/.local/share/virtualenvs/bmpga-LFVHaC5E/lib/python3.6/site-packages/Pyro4/util.py\u001b[0m in \u001b[0;36mdeserializeData\u001b[0;34m(self, data, compressed)\u001b[0m\n\u001b[1;32m    168\u001b[0m                 \u001b[0mdata\u001b[0m \u001b[0;34m=\u001b[0m \u001b[0mself\u001b[0m\u001b[0;34m.\u001b[0m\u001b[0m_convertToBytes\u001b[0m\u001b[0;34m(\u001b[0m\u001b[0mdata\u001b[0m\u001b[0;34m)\u001b[0m\u001b[0;34m\u001b[0m\u001b[0m\n\u001b[1;32m    169\u001b[0m             \u001b[0mdata\u001b[0m \u001b[0;34m=\u001b[0m \u001b[0mzlib\u001b[0m\u001b[0;34m.\u001b[0m\u001b[0mdecompress\u001b[0m\u001b[0;34m(\u001b[0m\u001b[0mdata\u001b[0m\u001b[0;34m)\u001b[0m\u001b[0;34m\u001b[0m\u001b[0m\n\u001b[0;32m--> 170\u001b[0;31m         \u001b[0;32mreturn\u001b[0m \u001b[0mself\u001b[0m\u001b[0;34m.\u001b[0m\u001b[0mloads\u001b[0m\u001b[0;34m(\u001b[0m\u001b[0mdata\u001b[0m\u001b[0;34m)\u001b[0m\u001b[0;34m\u001b[0m\u001b[0m\n\u001b[0m\u001b[1;32m    171\u001b[0m \u001b[0;34m\u001b[0m\u001b[0m\n\u001b[1;32m    172\u001b[0m     \u001b[0;32mdef\u001b[0m \u001b[0mserializeCall\u001b[0m\u001b[0;34m(\u001b[0m\u001b[0mself\u001b[0m\u001b[0;34m,\u001b[0m \u001b[0mobj\u001b[0m\u001b[0;34m,\u001b[0m \u001b[0mmethod\u001b[0m\u001b[0;34m,\u001b[0m \u001b[0mvargs\u001b[0m\u001b[0;34m,\u001b[0m \u001b[0mkwargs\u001b[0m\u001b[0;34m,\u001b[0m \u001b[0mcompress\u001b[0m\u001b[0;34m=\u001b[0m\u001b[0;32mFalse\u001b[0m\u001b[0;34m)\u001b[0m\u001b[0;34m:\u001b[0m\u001b[0;34m\u001b[0m\u001b[0m\n",
      "\u001b[0;32m~/.local/share/virtualenvs/bmpga-LFVHaC5E/lib/python3.6/site-packages/Pyro4/util.py\u001b[0m in \u001b[0;36mloads\u001b[0;34m(self, data)\u001b[0m\n\u001b[1;32m    596\u001b[0m \u001b[0;34m\u001b[0m\u001b[0m\n\u001b[1;32m    597\u001b[0m     \u001b[0;32mdef\u001b[0m \u001b[0mloads\u001b[0m\u001b[0;34m(\u001b[0m\u001b[0mself\u001b[0m\u001b[0;34m,\u001b[0m \u001b[0mdata\u001b[0m\u001b[0;34m)\u001b[0m\u001b[0;34m:\u001b[0m\u001b[0;34m\u001b[0m\u001b[0m\n\u001b[0;32m--> 598\u001b[0;31m         \u001b[0;32mreturn\u001b[0m \u001b[0mself\u001b[0m\u001b[0;34m.\u001b[0m\u001b[0mrecreate_classes\u001b[0m\u001b[0;34m(\u001b[0m\u001b[0mserpent\u001b[0m\u001b[0;34m.\u001b[0m\u001b[0mloads\u001b[0m\u001b[0;34m(\u001b[0m\u001b[0mdata\u001b[0m\u001b[0;34m)\u001b[0m\u001b[0;34m)\u001b[0m\u001b[0;34m\u001b[0m\u001b[0m\n\u001b[0m\u001b[1;32m    599\u001b[0m \u001b[0;34m\u001b[0m\u001b[0m\n\u001b[1;32m    600\u001b[0m     \u001b[0;34m@\u001b[0m\u001b[0mclassmethod\u001b[0m\u001b[0;34m\u001b[0m\u001b[0m\n",
      "\u001b[0;32m~/.local/share/virtualenvs/bmpga-LFVHaC5E/lib/python3.6/site-packages/Pyro4/util.py\u001b[0m in \u001b[0;36mrecreate_classes\u001b[0;34m(self, literal)\u001b[0m\n\u001b[1;32m    413\u001b[0m         \u001b[0;32mif\u001b[0m \u001b[0mt\u001b[0m \u001b[0;32mis\u001b[0m \u001b[0mdict\u001b[0m\u001b[0;34m:\u001b[0m\u001b[0;34m\u001b[0m\u001b[0m\n\u001b[1;32m    414\u001b[0m             \u001b[0;32mif\u001b[0m \u001b[0;34m\"__class__\"\u001b[0m \u001b[0;32min\u001b[0m \u001b[0mliteral\u001b[0m\u001b[0;34m:\u001b[0m\u001b[0;34m\u001b[0m\u001b[0m\n\u001b[0;32m--> 415\u001b[0;31m                 \u001b[0;32mreturn\u001b[0m \u001b[0mself\u001b[0m\u001b[0;34m.\u001b[0m\u001b[0mdict_to_class\u001b[0m\u001b[0;34m(\u001b[0m\u001b[0mliteral\u001b[0m\u001b[0;34m)\u001b[0m\u001b[0;34m\u001b[0m\u001b[0m\n\u001b[0m\u001b[1;32m    416\u001b[0m             \u001b[0mresult\u001b[0m \u001b[0;34m=\u001b[0m \u001b[0;34m{\u001b[0m\u001b[0;34m}\u001b[0m\u001b[0;34m\u001b[0m\u001b[0m\n\u001b[1;32m    417\u001b[0m             \u001b[0;32mfor\u001b[0m \u001b[0mkey\u001b[0m\u001b[0;34m,\u001b[0m \u001b[0mvalue\u001b[0m \u001b[0;32min\u001b[0m \u001b[0mliteral\u001b[0m\u001b[0;34m.\u001b[0m\u001b[0mitems\u001b[0m\u001b[0;34m(\u001b[0m\u001b[0;34m)\u001b[0m\u001b[0;34m:\u001b[0m\u001b[0;34m\u001b[0m\u001b[0m\n",
      "\u001b[0;32m~/.local/share/virtualenvs/bmpga-LFVHaC5E/lib/python3.6/site-packages/Pyro4/util.py\u001b[0m in \u001b[0;36mdict_to_class\u001b[0;34m(cls, data)\u001b[0m\n\u001b[1;32m    615\u001b[0m         \u001b[0;32mif\u001b[0m \u001b[0mdata\u001b[0m\u001b[0;34m.\u001b[0m\u001b[0mget\u001b[0m\u001b[0;34m(\u001b[0m\u001b[0;34m\"__class__\"\u001b[0m\u001b[0;34m)\u001b[0m \u001b[0;34m==\u001b[0m \u001b[0;34m\"float\"\u001b[0m\u001b[0;34m:\u001b[0m\u001b[0;34m\u001b[0m\u001b[0m\n\u001b[1;32m    616\u001b[0m             \u001b[0;32mreturn\u001b[0m \u001b[0mfloat\u001b[0m\u001b[0;34m(\u001b[0m\u001b[0mdata\u001b[0m\u001b[0;34m[\u001b[0m\u001b[0;34m\"value\"\u001b[0m\u001b[0;34m]\u001b[0m\u001b[0;34m)\u001b[0m     \u001b[0;31m# serpent encodes a float nan as a special class dict like this\u001b[0m\u001b[0;34m\u001b[0m\u001b[0m\n\u001b[0;32m--> 617\u001b[0;31m         \u001b[0;32mreturn\u001b[0m \u001b[0msuper\u001b[0m\u001b[0;34m(\u001b[0m\u001b[0mSerpentSerializer\u001b[0m\u001b[0;34m,\u001b[0m \u001b[0mcls\u001b[0m\u001b[0;34m)\u001b[0m\u001b[0;34m.\u001b[0m\u001b[0mdict_to_class\u001b[0m\u001b[0;34m(\u001b[0m\u001b[0mdata\u001b[0m\u001b[0;34m)\u001b[0m\u001b[0;34m\u001b[0m\u001b[0m\n\u001b[0m\u001b[1;32m    618\u001b[0m \u001b[0;34m\u001b[0m\u001b[0m\n\u001b[1;32m    619\u001b[0m \u001b[0;34m\u001b[0m\u001b[0m\n",
      "\u001b[0;32m~/.local/share/virtualenvs/bmpga-LFVHaC5E/lib/python3.6/site-packages/Pyro4/util.py\u001b[0m in \u001b[0;36mdict_to_class\u001b[0;34m(cls, data)\u001b[0m\n\u001b[1;32m    392\u001b[0m                     \u001b[0;32mreturn\u001b[0m \u001b[0mSerializerBase\u001b[0m\u001b[0;34m.\u001b[0m\u001b[0mmake_exception\u001b[0m\u001b[0;34m(\u001b[0m\u001b[0mexceptiontype\u001b[0m\u001b[0;34m,\u001b[0m \u001b[0mdata\u001b[0m\u001b[0;34m)\u001b[0m\u001b[0;34m\u001b[0m\u001b[0m\n\u001b[1;32m    393\u001b[0m         \u001b[0mlog\u001b[0m\u001b[0;34m.\u001b[0m\u001b[0mwarning\u001b[0m\u001b[0;34m(\u001b[0m\u001b[0;34m\"unsupported serialized class: \"\u001b[0m \u001b[0;34m+\u001b[0m \u001b[0mclassname\u001b[0m\u001b[0;34m)\u001b[0m\u001b[0;34m\u001b[0m\u001b[0m\n\u001b[0;32m--> 394\u001b[0;31m         \u001b[0;32mraise\u001b[0m \u001b[0merrors\u001b[0m\u001b[0;34m.\u001b[0m\u001b[0mSerializeError\u001b[0m\u001b[0;34m(\u001b[0m\u001b[0;34m\"unsupported serialized class: \"\u001b[0m \u001b[0;34m+\u001b[0m \u001b[0mclassname\u001b[0m\u001b[0;34m)\u001b[0m\u001b[0;34m\u001b[0m\u001b[0m\n\u001b[0m\u001b[1;32m    395\u001b[0m \u001b[0;34m\u001b[0m\u001b[0m\n\u001b[1;32m    396\u001b[0m     \u001b[0;34m@\u001b[0m\u001b[0mstaticmethod\u001b[0m\u001b[0;34m\u001b[0m\u001b[0m\n",
      "\u001b[0;31mSerializeError\u001b[0m: unsupported serialized class: queue.Empty"
     ]
    }
   ],
   "source": [
    "log = logging.getLogger(__name__)\n",
    "\n",
    "LJ_pot = LJcPotential()\n",
    "\n",
    "with open(\"example.uri\") as f:\n",
    "    uri = f.read().strip()\n",
    "\n",
    "quencher = QuenchClient(potential=LJ_pot, URI=uri, max_quenches=50, log=log)\n",
    "\n",
    "quencher.run()"
   ]
  }
 ],
 "metadata": {
  "kernelspec": {
   "display_name": "my-virtualenv-name",
   "language": "python",
   "name": "my-virtualenv-name"
  },
  "language_info": {
   "codemirror_mode": {
    "name": "ipython",
    "version": 3
   },
   "file_extension": ".py",
   "mimetype": "text/x-python",
   "name": "python",
   "nbconvert_exporter": "python",
   "pygments_lexer": "ipython3",
   "version": "3.6.4"
  }
 },
 "nbformat": 4,
 "nbformat_minor": 2
}
