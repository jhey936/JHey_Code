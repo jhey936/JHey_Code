{
 "cells": [
  {
   "cell_type": "code",
   "execution_count": 1,
   "metadata": {
    "collapsed": true
   },
   "outputs": [],
   "source": [
    "import logging\n",
    "import Pyro4\n",
    "\n",
    "import numpy as np\n",
    "\n",
    "from bmpga.mating.selectors import BaseSelector \n",
    "from bmpga.characterization import SimpleCharacterizer\n",
    "from bmpga.storage import Database, Cluster, Molecule\n",
    "from bmpga.systems import DefineSystem\n",
    "from bmpga.optimisation import PoolGA"
   ]
  },
  {
   "cell_type": "code",
   "execution_count": 2,
   "metadata": {
    "collapsed": false
   },
   "outputs": [
    {
     "name": "stdout",
     "output_type": "stream",
     "text": [
      "2018-06-10 15:59:14,742 - bmpga.storage.database - WARNING - Creating database in memory. This is not persistent and will not be saved.\n",
      "2018-06-10 15:59:14,761 - __main__ - INFO - Initialising RandomClusters with box_length = 6\n",
      "\n"
     ]
    }
   ],
   "source": [
    "log = logging.getLogger(__name__)\n",
    "\n",
    "compare = SimpleCharacterizer()\n",
    "database = Database(db=\"test.db\",\n",
    "                    new_database=True,\n",
    "                    compare_clusters=SimpleCharacterizer(accuracy=5e-7))\n",
    "\n",
    "lj = Molecule(coordinates=np.array([[0.0, 0.0, 0.0]]), particle_names=[\"LJ\"])\n",
    "system = DefineSystem(numbers_of_molecules=[13], molecules=[lj], log=log, box_length=6)"
   ]
  },
  {
   "cell_type": "code",
   "execution_count": null,
   "metadata": {
    "collapsed": false
   },
   "outputs": [
    {
     "name": "stdout",
     "output_type": "stream",
     "text": [
      "2018-06-10 15:59:16,079 - __main__ - INFO - Using database: <bmpga.storage.Database @ :memory:>\n",
      "\n",
      "2018-06-10 15:59:16,082 - __main__ - DEBUG - Starting GA thread and result thread\n",
      "2018-06-10 15:59:16,085 - __main__ - DEBUG - started thread in process_returned\n",
      "2018-06-10 15:59:16,086 - __main__ - INFO - Beginning global optimisation of <bmpga.systems.define_system.DefineSystem object at 0x7fd1f3640da0>. At None\n",
      "        Using version 0.1 of BMPGA\n",
      "2018-06-10 15:59:16,089 - __main__ - INFO - Starting the server event loop\n",
      "2018-06-10 15:59:16,169 - __main__ - DEBUG - Pool not full: 0 < 5. Generating random cluster.\n",
      "2018-06-10 15:59:16,381 - __main__ - DEBUG - minimum separation < max(molecule_diameter): 0.45425206023599957 < 3\n",
      "Cluster accepted\n",
      "2018-06-10 15:59:16,418 - __main__ - INFO - Returning random cluster found after 1 attempts using a final box_length of 6.0.\n",
      "2018-06-10 15:59:16,468 - __main__ - DEBUG - Pool not full: 0 < 5. Generating random cluster.\n",
      "2018-06-10 15:59:16,488 - __main__ - DEBUG - minimum separation < max(molecule_diameter): 0.5955667746670622 < 3\n",
      "Cluster accepted\n",
      "2018-06-10 15:59:16,497 - __main__ - INFO - Returning random cluster found after 1 attempts using a final box_length of 6.0.\n",
      "2018-06-10 15:59:16,509 - __main__ - DEBUG - Pool not full: 0 < 5. Generating random cluster.\n",
      "2018-06-10 15:59:16,635 - __main__ - DEBUG - minimum separation < max(molecule_diameter): 0.9764785435567079 < 3\n",
      "Cluster accepted\n",
      "2018-06-10 15:59:16,682 - __main__ - INFO - Returning random cluster found after 1 attempts using a final box_length of 6.0.\n",
      "2018-06-10 15:59:16,705 - __main__ - DEBUG - Pool not full: 0 < 5. Generating random cluster.\n",
      "2018-06-10 15:59:16,912 - __main__ - DEBUG - minimum separation < max(molecule_diameter): 0.9399711702396908 < 3\n",
      "Cluster accepted\n",
      "2018-06-10 15:59:16,929 - __main__ - INFO - Returning random cluster found after 1 attempts using a final box_length of 6.0.\n",
      "2018-06-10 15:59:16,987 - __main__ - DEBUG - Pool not full: 0 < 5. Generating random cluster.\n",
      "2018-06-10 15:59:17,162 - __main__ - DEBUG - minimum separation < max(molecule_diameter): 0.7348275823286986 < 3\n",
      "Cluster accepted\n",
      "2018-06-10 15:59:17,194 - __main__ - INFO - Returning random cluster found after 1 attempts using a final box_length of 6.0.\n",
      "2018-06-10 15:59:17,217 - __main__ - DEBUG - Pool not full: 0 < 5. Generating random cluster.\n",
      "2018-06-10 15:59:17,402 - __main__ - DEBUG - minimum separation < max(molecule_diameter): 0.6629306113290777 < 3\n",
      "Cluster accepted\n",
      "2018-06-10 15:59:17,460 - __main__ - INFO - Returning random cluster found after 1 attempts using a final box_length of 6.0.\n",
      "2018-06-10 15:59:17,477 - __main__ - DEBUG - Pool not full: 0 < 5. Generating random cluster.\n",
      "2018-06-10 15:59:17,656 - __main__ - DEBUG - minimum separation < max(molecule_diameter): 0.5812616450857596 < 3\n",
      "Cluster accepted\n",
      "2018-06-10 15:59:17,693 - __main__ - INFO - Returning random cluster found after 1 attempts using a final box_length of 6.0.\n",
      "2018-06-10 15:59:17,788 - __main__ - DEBUG - Pool not full: 0 < 5. Generating random cluster.\n",
      "2018-06-10 15:59:17,838 - __main__ - DEBUG - minimum separation < max(molecule_diameter): 0.7569449178610224 < 3\n",
      "Cluster accepted\n",
      "2018-06-10 15:59:17,880 - __main__ - INFO - Returning random cluster found after 1 attempts using a final box_length of 6.0.\n",
      "2018-06-10 15:59:17,912 - __main__ - DEBUG - Pool not full: 0 < 5. Generating random cluster.\n",
      "2018-06-10 15:59:18,095 - __main__ - DEBUG - minimum separation < max(molecule_diameter): 0.8197545820346656 < 3\n",
      "Cluster accepted\n",
      "2018-06-10 15:59:18,137 - __main__ - INFO - Returning random cluster found after 1 attempts using a final box_length of 6.0.\n",
      "2018-06-10 15:59:18,149 - __main__ - DEBUG - Pool not full: 0 < 5. Generating random cluster.\n",
      "2018-06-10 15:59:18,361 - __main__ - DEBUG - minimum separation < max(molecule_diameter): 0.6706813510271395 < 3\n",
      "Cluster accepted\n",
      "2018-06-10 15:59:18,438 - __main__ - INFO - Returning random cluster found after 1 attempts using a final box_length of 6.0.\n",
      "2018-06-10 15:59:25,027 - __main__ - INFO - New worker 129763298136116849945388465125281196070 registered\n",
      "2018-06-10 15:59:25,045 - __main__ - INFO - Job assigned to worker: 129763298136116849945388465125281196070\n",
      "2018-06-10 15:59:25,379 - __main__ - INFO - Job assigned to worker: 129763298136116849945388465125281196070\n"
     ]
    },
    {
     "name": "stderr",
     "output_type": "stream",
     "text": [
      "Exception in thread Thread-8:\n",
      "Traceback (most recent call last):\n",
      "  File \"/home/john/.local/share/virtualenvs/bmpga-LFVHaC5E/lib/python3.6/site-packages/sqlalchemy/engine/base.py\", line 1193, in _execute_context\n",
      "    context)\n",
      "  File \"/home/john/.local/share/virtualenvs/bmpga-LFVHaC5E/lib/python3.6/site-packages/sqlalchemy/engine/default.py\", line 507, in do_execute\n",
      "    cursor.execute(statement, parameters)\n",
      "sqlite3.OperationalError: no such table: tbl_clusters\n",
      "\n",
      "The above exception was the direct cause of the following exception:\n",
      "\n",
      "Traceback (most recent call last):\n",
      "  File \"/home/john/.local/anaconda3/lib/python3.6/threading.py\", line 916, in _bootstrap_inner\n",
      "    self.run()\n",
      "  File \"/home/john/.local/anaconda3/lib/python3.6/threading.py\", line 864, in run\n",
      "    self._target(*self._args, **self._kwargs)\n",
      "  File \"/home/john/Software/bmpga/bmpga/optimisation/pool_GA.py\", line 216, in process_returned\n",
      "    result = self.database.insert_cluster(result)\n",
      "  File \"/home/john/Software/bmpga/bmpga/storage/database.py\", line 65, in __call__\n",
      "    res = self.f(obj, *args, **kwargs)\n",
      "  File \"/home/john/Software/bmpga/bmpga/storage/database.py\", line 263, in insert_cluster\n",
      "    for existing_cluster in close_clusters:\n",
      "  File \"/home/john/.local/share/virtualenvs/bmpga-LFVHaC5E/lib/python3.6/site-packages/sqlalchemy/orm/query.py\", line 2925, in __iter__\n",
      "    return self._execute_and_instances(context)\n",
      "  File \"/home/john/.local/share/virtualenvs/bmpga-LFVHaC5E/lib/python3.6/site-packages/sqlalchemy/orm/query.py\", line 2948, in _execute_and_instances\n",
      "    result = conn.execute(querycontext.statement, self._params)\n",
      "  File \"/home/john/.local/share/virtualenvs/bmpga-LFVHaC5E/lib/python3.6/site-packages/sqlalchemy/engine/base.py\", line 948, in execute\n",
      "    return meth(self, multiparams, params)\n",
      "  File \"/home/john/.local/share/virtualenvs/bmpga-LFVHaC5E/lib/python3.6/site-packages/sqlalchemy/sql/elements.py\", line 269, in _execute_on_connection\n",
      "    return connection._execute_clauseelement(self, multiparams, params)\n",
      "  File \"/home/john/.local/share/virtualenvs/bmpga-LFVHaC5E/lib/python3.6/site-packages/sqlalchemy/engine/base.py\", line 1060, in _execute_clauseelement\n",
      "    compiled_sql, distilled_params\n",
      "  File \"/home/john/.local/share/virtualenvs/bmpga-LFVHaC5E/lib/python3.6/site-packages/sqlalchemy/engine/base.py\", line 1200, in _execute_context\n",
      "    context)\n",
      "  File \"/home/john/.local/share/virtualenvs/bmpga-LFVHaC5E/lib/python3.6/site-packages/sqlalchemy/engine/base.py\", line 1413, in _handle_dbapi_exception\n",
      "    exc_info\n",
      "  File \"/home/john/.local/share/virtualenvs/bmpga-LFVHaC5E/lib/python3.6/site-packages/sqlalchemy/util/compat.py\", line 203, in raise_from_cause\n",
      "    reraise(type(exception), exception, tb=exc_tb, cause=cause)\n",
      "  File \"/home/john/.local/share/virtualenvs/bmpga-LFVHaC5E/lib/python3.6/site-packages/sqlalchemy/util/compat.py\", line 186, in reraise\n",
      "    raise value.with_traceback(tb)\n",
      "  File \"/home/john/.local/share/virtualenvs/bmpga-LFVHaC5E/lib/python3.6/site-packages/sqlalchemy/engine/base.py\", line 1193, in _execute_context\n",
      "    context)\n",
      "  File \"/home/john/.local/share/virtualenvs/bmpga-LFVHaC5E/lib/python3.6/site-packages/sqlalchemy/engine/default.py\", line 507, in do_execute\n",
      "    cursor.execute(statement, parameters)\n",
      "sqlalchemy.exc.OperationalError: (sqlite3.OperationalError) no such table: tbl_clusters [SQL: 'SELECT tbl_clusters._id AS tbl_clusters__id, tbl_clusters.cost AS tbl_clusters_cost, tbl_clusters.step AS tbl_clusters_step, tbl_clusters.minimum AS tbl_clusters_minimum \\nFROM tbl_clusters \\nWHERE tbl_clusters.cost > ? AND tbl_clusters.cost < ?'] [parameters: (-39.46888338171573, -39.46888138171573)] (Background on this error at: http://sqlalche.me/e/e3q8)\n",
      "\n"
     ]
    },
    {
     "name": "stdout",
     "output_type": "stream",
     "text": [
      "2018-06-10 15:59:25,712 - __main__ - INFO - Job assigned to worker: 129763298136116849945388465125281196070\n",
      "2018-06-10 15:59:26,300 - __main__ - INFO - Job assigned to worker: 129763298136116849945388465125281196070\n",
      "2018-06-10 15:59:26,673 - __main__ - INFO - Job assigned to worker: 129763298136116849945388465125281196070\n",
      "2018-06-10 15:59:27,187 - __main__ - INFO - Job assigned to worker: 129763298136116849945388465125281196070\n",
      "2018-06-10 15:59:27,521 - __main__ - INFO - Job assigned to worker: 129763298136116849945388465125281196070\n",
      "2018-06-10 15:59:28,039 - __main__ - INFO - Job assigned to worker: 129763298136116849945388465125281196070\n",
      "2018-06-10 15:59:28,327 - __main__ - INFO - Job assigned to worker: 129763298136116849945388465125281196070\n",
      "2018-06-10 15:59:28,730 - __main__ - INFO - Job assigned to worker: 129763298136116849945388465125281196070\n",
      "2018-06-10 15:59:29,180 - __main__ - INFO - Job assigned to worker: 129763298136116849945388465125281196070\n",
      "2018-06-10 15:59:29,678 - __main__ - INFO - Job assigned to worker: 129763298136116849945388465125281196070\n"
     ]
    }
   ],
   "source": [
    "daemon = Pyro4.Daemon(port=9939)\n",
    "\n",
    "GA = PoolGA(database=database, \n",
    "            min_pool_size=5, \n",
    "            max_generations=2,\n",
    "            system=system, \n",
    "            daemon=daemon,\n",
    "            log=log)\n",
    "\n",
    "with open(\"example.uri\", \"w\") as f:\n",
    "    uri = daemon.register(GA)\n",
    "    f.write(str(uri))\n",
    "\n",
    "GA.start_threads()\n",
    "daemon.requestLoop()\n",
    "daemon.shutdown()"
   ]
  },
  {
   "cell_type": "code",
   "execution_count": null,
   "metadata": {
    "collapsed": false
   },
   "outputs": [],
   "source": [
    "from bmpga.utils.io_utils import XYZWriter\n",
    "gm = GA.database.get_global_minimum()\n",
    "print(gm)\n",
    "writer = XYZWriter()\n",
    "writer.write(filename=\"gm.xyz\", structures=gm, file_mode=\"w\")\n",
    "!jmol gm.xyz"
   ]
  },
  {
   "cell_type": "code",
   "execution_count": null,
   "metadata": {
    "collapsed": false
   },
   "outputs": [],
   "source": [
    "GA.write_pool_to_file(\"pool.xyz\")"
   ]
  }
 ],
 "metadata": {
  "kernelspec": {
   "display_name": "my-virtualenv-name",
   "language": "python",
   "name": "my-virtualenv-name"
  },
  "language_info": {
   "codemirror_mode": {
    "name": "ipython",
    "version": 3
   },
   "file_extension": ".py",
   "mimetype": "text/x-python",
   "name": "python",
   "nbconvert_exporter": "python",
   "pygments_lexer": "ipython3",
   "version": "3.6.4"
  }
 },
 "nbformat": 4,
 "nbformat_minor": 2
}
