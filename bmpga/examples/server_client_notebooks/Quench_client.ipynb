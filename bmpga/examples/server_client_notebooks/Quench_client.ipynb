{
 "cells": [
  {
   "cell_type": "markdown",
   "metadata": {},
   "source": [
    "# Example use of a QuenchClient\n",
    "\n",
    "### Part of BMPGA by John Hey \n",
    "\n",
    "##### Contact me: \n",
    "jch936@bham.ac.uk, jhey936@gmail.com, jch936 (github), john-hey (bitbucket), @John_Hey_ (Twitter)\n"
   ]
  },
  {
   "cell_type": "code",
   "execution_count": 1,
   "metadata": {
    "collapsed": false
   },
   "outputs": [],
   "source": [
    "import logging\n",
    "\n",
    "from bmpga.potentials import LJcPotential\n",
    "from bmpga.optimisation import QuenchClient"
   ]
  },
  {
   "cell_type": "markdown",
   "metadata": {},
   "source": [
    "Sets up the potential and reads in the server uri   "
   ]
  },
  {
   "cell_type": "code",
   "execution_count": 2,
   "metadata": {
    "collapsed": false,
    "scrolled": true
   },
   "outputs": [
    {
     "name": "stdout",
     "output_type": "stream",
     "text": [
      "2018-06-10 17:31:42,082 - __main__ - DEBUG - Initialising: QuenchClient object: 129983989664054829691327285210451767697\n",
      "GA URI: PYRO:obj_fd7cdd81213c4c38b4c2b14714ec4da2@localhost:9939\n",
      "2018-06-10 17:31:42,085 - __main__ - INFO - Starting: QuenchClient object: 129983989664054829691327285210451767697\n",
      "2018-06-10 17:31:42,086 - __main__ - DEBUG - QuenchClient object: 129983989664054829691327285210451767697: beginning job 1\n",
      "2018-06-10 17:31:42,121 - __main__ - DEBUG - Quench process: 129983989664054829691327285210451767697 received job number 1: minimize <Cluster (ID=None, Energy=0.0, Found at step:None)> from GA server\n",
      "2018-06-10 17:31:42,543 - __main__ - INFO - QuenchClient object: 129983989664054829691327285210451767697: returning cluster: <Cluster (ID=None, Energy=-40.75851345654402, Found at step:None)> from job: 1\n",
      "2018-06-10 17:31:42,567 - __main__ - DEBUG - QuenchClient object: 129983989664054829691327285210451767697: ending job 1\n",
      "2018-06-10 17:31:42,568 - __main__ - DEBUG - QuenchClient object: 129983989664054829691327285210451767697: beginning job 2\n",
      "2018-06-10 17:31:42,574 - __main__ - DEBUG - Quench process: 129983989664054829691327285210451767697 received job number 2: minimize <Cluster (ID=None, Energy=0.0, Found at step:None)> from GA server\n",
      "2018-06-10 17:31:42,858 - __main__ - INFO - QuenchClient object: 129983989664054829691327285210451767697: returning cluster: <Cluster (ID=None, Energy=-41.47197980449737, Found at step:None)> from job: 2\n",
      "2018-06-10 17:31:42,860 - __main__ - DEBUG - QuenchClient object: 129983989664054829691327285210451767697: ending job 2\n",
      "2018-06-10 17:31:42,861 - __main__ - DEBUG - QuenchClient object: 129983989664054829691327285210451767697: beginning job 3\n",
      "2018-06-10 17:31:42,865 - __main__ - DEBUG - Quench process: 129983989664054829691327285210451767697 received job number 3: minimize <Cluster (ID=None, Energy=0.0, Found at step:None)> from GA server\n",
      "2018-06-10 17:31:43,363 - __main__ - INFO - QuenchClient object: 129983989664054829691327285210451767697: returning cluster: <Cluster (ID=None, Energy=-38.37916982568251, Found at step:None)> from job: 3\n",
      "2018-06-10 17:31:43,367 - __main__ - DEBUG - QuenchClient object: 129983989664054829691327285210451767697: ending job 3\n",
      "2018-06-10 17:31:43,368 - __main__ - DEBUG - QuenchClient object: 129983989664054829691327285210451767697: beginning job 4\n",
      "2018-06-10 17:31:43,372 - __main__ - DEBUG - Quench process: 129983989664054829691327285210451767697 received job number 4: minimize <Cluster (ID=None, Energy=0.0, Found at step:None)> from GA server\n",
      "2018-06-10 17:31:43,798 - __main__ - INFO - QuenchClient object: 129983989664054829691327285210451767697: returning cluster: <Cluster (ID=None, Energy=-37.62241201584053, Found at step:None)> from job: 4\n",
      "2018-06-10 17:31:43,802 - __main__ - DEBUG - QuenchClient object: 129983989664054829691327285210451767697: ending job 4\n",
      "2018-06-10 17:31:43,804 - __main__ - DEBUG - QuenchClient object: 129983989664054829691327285210451767697: beginning job 5\n",
      "2018-06-10 17:31:43,807 - __main__ - DEBUG - Quench process: 129983989664054829691327285210451767697 received job number 5: minimize <Cluster (ID=None, Energy=0.0, Found at step:None)> from GA server\n",
      "2018-06-10 17:31:44,144 - __main__ - INFO - QuenchClient object: 129983989664054829691327285210451767697: returning cluster: <Cluster (ID=None, Energy=-38.74486483120034, Found at step:None)> from job: 5\n",
      "2018-06-10 17:31:44,146 - __main__ - DEBUG - QuenchClient object: 129983989664054829691327285210451767697: ending job 5\n",
      "2018-06-10 17:31:44,147 - __main__ - DEBUG - QuenchClient object: 129983989664054829691327285210451767697: beginning job 6\n",
      "2018-06-10 17:31:44,152 - __main__ - DEBUG - Quench process: 129983989664054829691327285210451767697 received job number 6: minimize <Cluster (ID=None, Energy=0.0, Found at step:None)> from GA server\n",
      "2018-06-10 17:31:44,544 - __main__ - INFO - QuenchClient object: 129983989664054829691327285210451767697: returning cluster: <Cluster (ID=None, Energy=-44.32680115742677, Found at step:None)> from job: 6\n",
      "2018-06-10 17:31:44,546 - __main__ - DEBUG - QuenchClient object: 129983989664054829691327285210451767697: ending job 6\n",
      "2018-06-10 17:31:44,547 - __main__ - DEBUG - QuenchClient object: 129983989664054829691327285210451767697: beginning job 7\n",
      "2018-06-10 17:31:44,550 - __main__ - DEBUG - Quench process: 129983989664054829691327285210451767697 received job number 7: minimize <Cluster (ID=None, Energy=0.0, Found at step:None)> from GA server\n",
      "2018-06-10 17:31:44,994 - __main__ - INFO - QuenchClient object: 129983989664054829691327285210451767697: returning cluster: <Cluster (ID=None, Energy=-37.454743654512406, Found at step:None)> from job: 7\n",
      "2018-06-10 17:31:44,996 - __main__ - DEBUG - QuenchClient object: 129983989664054829691327285210451767697: ending job 7\n",
      "2018-06-10 17:31:44,997 - __main__ - DEBUG - QuenchClient object: 129983989664054829691327285210451767697: beginning job 8\n",
      "2018-06-10 17:31:45,000 - __main__ - DEBUG - Quench process: 129983989664054829691327285210451767697 received job number 8: minimize <Cluster (ID=None, Energy=0.0, Found at step:None)> from GA server\n",
      "2018-06-10 17:31:45,395 - __main__ - INFO - QuenchClient object: 129983989664054829691327285210451767697: returning cluster: <Cluster (ID=None, Energy=-39.34223045198756, Found at step:None)> from job: 8\n",
      "2018-06-10 17:31:45,397 - __main__ - DEBUG - QuenchClient object: 129983989664054829691327285210451767697: ending job 8\n",
      "2018-06-10 17:31:45,398 - __main__ - DEBUG - QuenchClient object: 129983989664054829691327285210451767697: beginning job 9\n",
      "2018-06-10 17:31:45,401 - __main__ - DEBUG - Quench process: 129983989664054829691327285210451767697 received job number 9: minimize <Cluster (ID=None, Energy=0.0, Found at step:None)> from GA server\n",
      "2018-06-10 17:31:45,753 - __main__ - INFO - QuenchClient object: 129983989664054829691327285210451767697: returning cluster: <Cluster (ID=None, Energy=-38.68248372985625, Found at step:None)> from job: 9\n",
      "2018-06-10 17:31:45,756 - __main__ - DEBUG - QuenchClient object: 129983989664054829691327285210451767697: ending job 9\n",
      "2018-06-10 17:31:45,757 - __main__ - DEBUG - QuenchClient object: 129983989664054829691327285210451767697: beginning job 10\n",
      "2018-06-10 17:31:45,760 - __main__ - DEBUG - Quench process: 129983989664054829691327285210451767697 received job number 10: minimize <Cluster (ID=None, Energy=0.0, Found at step:None)> from GA server\n",
      "2018-06-10 17:31:46,331 - __main__ - INFO - QuenchClient object: 129983989664054829691327285210451767697: returning cluster: <Cluster (ID=None, Energy=-39.43547991189979, Found at step:None)> from job: 10\n",
      "2018-06-10 17:31:46,334 - __main__ - DEBUG - QuenchClient object: 129983989664054829691327285210451767697: ending job 10\n",
      "2018-06-10 17:31:46,335 - __main__ - DEBUG - QuenchClient object: 129983989664054829691327285210451767697: beginning job 11\n",
      "2018-06-10 17:31:46,339 - __main__ - DEBUG - Quench process: 129983989664054829691327285210451767697 received job number 11: minimize <Cluster (ID=None, Energy=0.0, Found at step:None)> from GA server\n",
      "2018-06-10 17:31:46,934 - __main__ - INFO - QuenchClient object: 129983989664054829691327285210451767697: returning cluster: <Cluster (ID=None, Energy=-39.43547991189979, Found at step:None)> from job: 11\n",
      "2018-06-10 17:31:46,937 - __main__ - DEBUG - QuenchClient object: 129983989664054829691327285210451767697: ending job 11\n",
      "2018-06-10 17:31:46,938 - __main__ - DEBUG - QuenchClient object: 129983989664054829691327285210451767697: beginning job 12\n",
      "2018-06-10 17:31:46,942 - __main__ - DEBUG - Quench process: 129983989664054829691327285210451767697 received job number 12: minimize <Cluster (ID=None, Energy=0.0, Found at step:None)> from GA server\n",
      "2018-06-10 17:31:47,573 - __main__ - INFO - QuenchClient object: 129983989664054829691327285210451767697: returning cluster: <Cluster (ID=None, Energy=-39.43547991189979, Found at step:None)> from job: 12\n"
     ]
    },
    {
     "ename": "KeyboardInterrupt",
     "evalue": "",
     "output_type": "error",
     "traceback": [
      "\u001b[0;31m---------------------------------------------------------------------------\u001b[0m",
      "\u001b[0;31mKeyboardInterrupt\u001b[0m                         Traceback (most recent call last)",
      "\u001b[0;32m<ipython-input-2-d1066025c4a1>\u001b[0m in \u001b[0;36m<module>\u001b[0;34m()\u001b[0m\n\u001b[1;32m      8\u001b[0m \u001b[0mquencher\u001b[0m \u001b[0;34m=\u001b[0m \u001b[0mQuenchClient\u001b[0m\u001b[0;34m(\u001b[0m\u001b[0mpotential\u001b[0m\u001b[0;34m=\u001b[0m\u001b[0mLJ_pot\u001b[0m\u001b[0;34m,\u001b[0m \u001b[0mURI\u001b[0m\u001b[0;34m=\u001b[0m\u001b[0muri\u001b[0m\u001b[0;34m,\u001b[0m \u001b[0mmax_quenches\u001b[0m\u001b[0;34m=\u001b[0m\u001b[0;36m250\u001b[0m\u001b[0;34m,\u001b[0m \u001b[0mlog\u001b[0m\u001b[0;34m=\u001b[0m\u001b[0mlog\u001b[0m\u001b[0;34m)\u001b[0m\u001b[0;34m\u001b[0m\u001b[0m\n\u001b[1;32m      9\u001b[0m \u001b[0;34m\u001b[0m\u001b[0m\n\u001b[0;32m---> 10\u001b[0;31m \u001b[0mquencher\u001b[0m\u001b[0;34m.\u001b[0m\u001b[0mrun\u001b[0m\u001b[0;34m(\u001b[0m\u001b[0;34m)\u001b[0m\u001b[0;34m\u001b[0m\u001b[0m\n\u001b[0m",
      "\u001b[0;32m~/Software/bmpga/bmpga/optimisation/quench_client.py\u001b[0m in \u001b[0;36mrun\u001b[0;34m(self)\u001b[0m\n\u001b[1;32m    195\u001b[0m             \u001b[0mself\u001b[0m\u001b[0;34m.\u001b[0m\u001b[0mlog\u001b[0m\u001b[0;34m.\u001b[0m\u001b[0minfo\u001b[0m\u001b[0;34m(\u001b[0m\u001b[0;34m\"{}: returning cluster: {} from job: {}\"\u001b[0m\u001b[0;34m.\u001b[0m\u001b[0mformat\u001b[0m\u001b[0;34m(\u001b[0m\u001b[0mself\u001b[0m\u001b[0;34m,\u001b[0m \u001b[0mresult_cluster\u001b[0m\u001b[0;34m,\u001b[0m \u001b[0mquench\u001b[0m\u001b[0;34m)\u001b[0m\u001b[0;34m)\u001b[0m\u001b[0;34m\u001b[0m\u001b[0m\n\u001b[1;32m    196\u001b[0m \u001b[0;34m\u001b[0m\u001b[0m\n\u001b[0;32m--> 197\u001b[0;31m             \u001b[0mself\u001b[0m\u001b[0;34m.\u001b[0m\u001b[0mGA\u001b[0m\u001b[0;34m.\u001b[0m\u001b[0mreturn_result\u001b[0m\u001b[0;34m(\u001b[0m\u001b[0mdumps\u001b[0m\u001b[0;34m(\u001b[0m\u001b[0mresult_cluster\u001b[0m\u001b[0;34m)\u001b[0m\u001b[0;34m,\u001b[0m \u001b[0mself\u001b[0m\u001b[0;34m.\u001b[0m\u001b[0mid\u001b[0m\u001b[0;34m)\u001b[0m\u001b[0;34m\u001b[0m\u001b[0m\n\u001b[0m\u001b[1;32m    198\u001b[0m \u001b[0;34m\u001b[0m\u001b[0m\n\u001b[1;32m    199\u001b[0m             \u001b[0mself\u001b[0m\u001b[0;34m.\u001b[0m\u001b[0mlog\u001b[0m\u001b[0;34m.\u001b[0m\u001b[0mdebug\u001b[0m\u001b[0;34m(\u001b[0m\u001b[0;34m\"{}: ending job {}\"\u001b[0m\u001b[0;34m.\u001b[0m\u001b[0mformat\u001b[0m\u001b[0;34m(\u001b[0m\u001b[0mself\u001b[0m\u001b[0;34m,\u001b[0m \u001b[0mquench\u001b[0m\u001b[0;34m)\u001b[0m\u001b[0;34m)\u001b[0m\u001b[0;34m\u001b[0m\u001b[0m\n",
      "\u001b[0;32m~/.local/share/virtualenvs/bmpga-LFVHaC5E/lib/python3.6/site-packages/Pyro4/core.py\u001b[0m in \u001b[0;36m__call__\u001b[0;34m(self, *args, **kwargs)\u001b[0m\n\u001b[1;32m    183\u001b[0m         \u001b[0;32mfor\u001b[0m \u001b[0mattempt\u001b[0m \u001b[0;32min\u001b[0m \u001b[0mrange\u001b[0m\u001b[0;34m(\u001b[0m\u001b[0mself\u001b[0m\u001b[0;34m.\u001b[0m\u001b[0m__max_retries\u001b[0m \u001b[0;34m+\u001b[0m \u001b[0;36m1\u001b[0m\u001b[0;34m)\u001b[0m\u001b[0;34m:\u001b[0m\u001b[0;34m\u001b[0m\u001b[0m\n\u001b[1;32m    184\u001b[0m             \u001b[0;32mtry\u001b[0m\u001b[0;34m:\u001b[0m\u001b[0;34m\u001b[0m\u001b[0m\n\u001b[0;32m--> 185\u001b[0;31m                 \u001b[0;32mreturn\u001b[0m \u001b[0mself\u001b[0m\u001b[0;34m.\u001b[0m\u001b[0m__send\u001b[0m\u001b[0;34m(\u001b[0m\u001b[0mself\u001b[0m\u001b[0;34m.\u001b[0m\u001b[0m__name\u001b[0m\u001b[0;34m,\u001b[0m \u001b[0margs\u001b[0m\u001b[0;34m,\u001b[0m \u001b[0mkwargs\u001b[0m\u001b[0;34m)\u001b[0m\u001b[0;34m\u001b[0m\u001b[0m\n\u001b[0m\u001b[1;32m    186\u001b[0m             \u001b[0;32mexcept\u001b[0m \u001b[0;34m(\u001b[0m\u001b[0merrors\u001b[0m\u001b[0;34m.\u001b[0m\u001b[0mConnectionClosedError\u001b[0m\u001b[0;34m,\u001b[0m \u001b[0merrors\u001b[0m\u001b[0;34m.\u001b[0m\u001b[0mTimeoutError\u001b[0m\u001b[0;34m)\u001b[0m\u001b[0;34m:\u001b[0m\u001b[0;34m\u001b[0m\u001b[0m\n\u001b[1;32m    187\u001b[0m                 \u001b[0;31m# only retry for recoverable network errors\u001b[0m\u001b[0;34m\u001b[0m\u001b[0;34m\u001b[0m\u001b[0m\n",
      "\u001b[0;32m~/.local/share/virtualenvs/bmpga-LFVHaC5E/lib/python3.6/site-packages/Pyro4/core.py\u001b[0m in \u001b[0;36m_pyroInvoke\u001b[0;34m(self, methodname, vargs, kwargs, flags, objectId)\u001b[0m\n\u001b[1;32m    451\u001b[0m                     \u001b[0;32mreturn\u001b[0m \u001b[0;32mNone\u001b[0m  \u001b[0;31m# oneway call, no response data\u001b[0m\u001b[0;34m\u001b[0m\u001b[0m\n\u001b[1;32m    452\u001b[0m                 \u001b[0;32melse\u001b[0m\u001b[0;34m:\u001b[0m\u001b[0;34m\u001b[0m\u001b[0m\n\u001b[0;32m--> 453\u001b[0;31m                     \u001b[0mmsg\u001b[0m \u001b[0;34m=\u001b[0m \u001b[0mmessage\u001b[0m\u001b[0;34m.\u001b[0m\u001b[0mMessage\u001b[0m\u001b[0;34m.\u001b[0m\u001b[0mrecv\u001b[0m\u001b[0;34m(\u001b[0m\u001b[0mself\u001b[0m\u001b[0;34m.\u001b[0m\u001b[0m_pyroConnection\u001b[0m\u001b[0;34m,\u001b[0m \u001b[0;34m[\u001b[0m\u001b[0mmessage\u001b[0m\u001b[0;34m.\u001b[0m\u001b[0mMSG_RESULT\u001b[0m\u001b[0;34m]\u001b[0m\u001b[0;34m,\u001b[0m \u001b[0mhmac_key\u001b[0m\u001b[0;34m=\u001b[0m\u001b[0mself\u001b[0m\u001b[0;34m.\u001b[0m\u001b[0m_pyroHmacKey\u001b[0m\u001b[0;34m)\u001b[0m\u001b[0;34m\u001b[0m\u001b[0m\n\u001b[0m\u001b[1;32m    454\u001b[0m                     \u001b[0;32mif\u001b[0m \u001b[0mconfig\u001b[0m\u001b[0;34m.\u001b[0m\u001b[0mLOGWIRE\u001b[0m\u001b[0;34m:\u001b[0m\u001b[0;34m\u001b[0m\u001b[0m\n\u001b[1;32m    455\u001b[0m                         \u001b[0m_log_wiredata\u001b[0m\u001b[0;34m(\u001b[0m\u001b[0mlog\u001b[0m\u001b[0;34m,\u001b[0m \u001b[0;34m\"proxy wiredata received\"\u001b[0m\u001b[0;34m,\u001b[0m \u001b[0mmsg\u001b[0m\u001b[0;34m)\u001b[0m\u001b[0;34m\u001b[0m\u001b[0m\n",
      "\u001b[0;32m~/.local/share/virtualenvs/bmpga-LFVHaC5E/lib/python3.6/site-packages/Pyro4/message.py\u001b[0m in \u001b[0;36mrecv\u001b[0;34m(cls, connection, requiredMsgTypes, hmac_key)\u001b[0m\n\u001b[1;32m    166\u001b[0m         \u001b[0mValidates\u001b[0m \u001b[0ma\u001b[0m \u001b[0mHMAC\u001b[0m \u001b[0mchunk\u001b[0m \u001b[0;32mif\u001b[0m \u001b[0mpresent\u001b[0m\u001b[0;34m.\u001b[0m\u001b[0;34m\u001b[0m\u001b[0m\n\u001b[1;32m    167\u001b[0m         \"\"\"\n\u001b[0;32m--> 168\u001b[0;31m         \u001b[0mmsg\u001b[0m \u001b[0;34m=\u001b[0m \u001b[0mcls\u001b[0m\u001b[0;34m.\u001b[0m\u001b[0mfrom_header\u001b[0m\u001b[0;34m(\u001b[0m\u001b[0mconnection\u001b[0m\u001b[0;34m.\u001b[0m\u001b[0mrecv\u001b[0m\u001b[0;34m(\u001b[0m\u001b[0mcls\u001b[0m\u001b[0;34m.\u001b[0m\u001b[0mheader_size\u001b[0m\u001b[0;34m)\u001b[0m\u001b[0;34m)\u001b[0m\u001b[0;34m\u001b[0m\u001b[0m\n\u001b[0m\u001b[1;32m    169\u001b[0m         \u001b[0mmsg\u001b[0m\u001b[0;34m.\u001b[0m\u001b[0mhmac_key\u001b[0m \u001b[0;34m=\u001b[0m \u001b[0mhmac_key\u001b[0m\u001b[0;34m\u001b[0m\u001b[0m\n\u001b[1;32m    170\u001b[0m         \u001b[0;32mif\u001b[0m \u001b[0;36m0\u001b[0m \u001b[0;34m<\u001b[0m \u001b[0mconfig\u001b[0m\u001b[0;34m.\u001b[0m\u001b[0mMAX_MESSAGE_SIZE\u001b[0m \u001b[0;34m<\u001b[0m \u001b[0;34m(\u001b[0m\u001b[0mmsg\u001b[0m\u001b[0;34m.\u001b[0m\u001b[0mdata_size\u001b[0m \u001b[0;34m+\u001b[0m \u001b[0mmsg\u001b[0m\u001b[0;34m.\u001b[0m\u001b[0mannotations_size\u001b[0m\u001b[0;34m)\u001b[0m\u001b[0;34m:\u001b[0m\u001b[0;34m\u001b[0m\u001b[0m\n",
      "\u001b[0;32m~/.local/share/virtualenvs/bmpga-LFVHaC5E/lib/python3.6/site-packages/Pyro4/socketutil.py\u001b[0m in \u001b[0;36mrecv\u001b[0;34m(self, size)\u001b[0m\n\u001b[1;32m    461\u001b[0m \u001b[0;34m\u001b[0m\u001b[0m\n\u001b[1;32m    462\u001b[0m     \u001b[0;32mdef\u001b[0m \u001b[0mrecv\u001b[0m\u001b[0;34m(\u001b[0m\u001b[0mself\u001b[0m\u001b[0;34m,\u001b[0m \u001b[0msize\u001b[0m\u001b[0;34m)\u001b[0m\u001b[0;34m:\u001b[0m\u001b[0;34m\u001b[0m\u001b[0m\n\u001b[0;32m--> 463\u001b[0;31m         \u001b[0;32mreturn\u001b[0m \u001b[0mreceiveData\u001b[0m\u001b[0;34m(\u001b[0m\u001b[0mself\u001b[0m\u001b[0;34m.\u001b[0m\u001b[0msock\u001b[0m\u001b[0;34m,\u001b[0m \u001b[0msize\u001b[0m\u001b[0;34m)\u001b[0m\u001b[0;34m\u001b[0m\u001b[0m\n\u001b[0m\u001b[1;32m    464\u001b[0m \u001b[0;34m\u001b[0m\u001b[0m\n\u001b[1;32m    465\u001b[0m     \u001b[0;32mdef\u001b[0m \u001b[0mclose\u001b[0m\u001b[0;34m(\u001b[0m\u001b[0mself\u001b[0m\u001b[0;34m)\u001b[0m\u001b[0;34m:\u001b[0m\u001b[0;34m\u001b[0m\u001b[0m\n",
      "\u001b[0;32m~/.local/share/virtualenvs/bmpga-LFVHaC5E/lib/python3.6/site-packages/Pyro4/socketutil.py\u001b[0m in \u001b[0;36mreceiveData\u001b[0;34m(sock, size)\u001b[0m\n\u001b[1;32m    149\u001b[0m             \u001b[0;32mwhile\u001b[0m \u001b[0;32mTrue\u001b[0m\u001b[0;34m:\u001b[0m\u001b[0;34m\u001b[0m\u001b[0m\n\u001b[1;32m    150\u001b[0m                 \u001b[0;32mtry\u001b[0m\u001b[0;34m:\u001b[0m\u001b[0;34m\u001b[0m\u001b[0m\n\u001b[0;32m--> 151\u001b[0;31m                     \u001b[0mdata\u001b[0m \u001b[0;34m=\u001b[0m \u001b[0msock\u001b[0m\u001b[0;34m.\u001b[0m\u001b[0mrecv\u001b[0m\u001b[0;34m(\u001b[0m\u001b[0msize\u001b[0m\u001b[0;34m,\u001b[0m \u001b[0msocket\u001b[0m\u001b[0;34m.\u001b[0m\u001b[0mMSG_WAITALL\u001b[0m\u001b[0;34m)\u001b[0m\u001b[0;34m\u001b[0m\u001b[0m\n\u001b[0m\u001b[1;32m    152\u001b[0m                     \u001b[0;32mif\u001b[0m \u001b[0mlen\u001b[0m\u001b[0;34m(\u001b[0m\u001b[0mdata\u001b[0m\u001b[0;34m)\u001b[0m \u001b[0;34m==\u001b[0m \u001b[0msize\u001b[0m\u001b[0;34m:\u001b[0m\u001b[0;34m\u001b[0m\u001b[0m\n\u001b[1;32m    153\u001b[0m                         \u001b[0;32mreturn\u001b[0m \u001b[0mdata\u001b[0m\u001b[0;34m\u001b[0m\u001b[0m\n",
      "\u001b[0;31mKeyboardInterrupt\u001b[0m: "
     ]
    }
   ],
   "source": [
    "log = logging.getLogger(__name__)\n",
    "\n",
    "LJ_pot = LJcPotential()\n",
    "\n",
    "with open(\"example.uri\") as f:\n",
    "    uri = f.read().strip()\n",
    "\n",
    "quencher = QuenchClient(potential=LJ_pot, URI=uri, max_quenches=250, log=log)\n",
    "\n",
    "quencher.run()"
   ]
  }
 ],
 "metadata": {
  "kernelspec": {
   "display_name": "my-virtualenv-name",
   "language": "python",
   "name": "my-virtualenv-name"
  },
  "language_info": {
   "codemirror_mode": {
    "name": "ipython",
    "version": 3
   },
   "file_extension": ".py",
   "mimetype": "text/x-python",
   "name": "python",
   "nbconvert_exporter": "python",
   "pygments_lexer": "ipython3",
   "version": "3.6.4"
  }
 },
 "nbformat": 4,
 "nbformat_minor": 2
}
