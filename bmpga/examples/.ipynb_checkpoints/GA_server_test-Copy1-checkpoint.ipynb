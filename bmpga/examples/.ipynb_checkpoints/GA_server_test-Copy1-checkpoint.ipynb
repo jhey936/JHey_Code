{
 "cells": [
  {
   "cell_type": "code",
   "execution_count": null,
   "metadata": {
    "collapsed": true
   },
   "outputs": [],
   "source": [
    "import logging\n",
    "import Pyro4\n",
    "\n",
    "import numpy as np\n",
    "\n",
    "from bmpga.mating.selectors import BaseSelector \n",
    "from bmpga.characterization import SimpleCharacterizer\n",
    "from bmpga.storage import Database, Cluster, Molecule\n",
    "from bmpga.systems import DefineSystem\n",
    "from bmpga.optimisation import PoolGA"
   ]
  },
  {
   "cell_type": "code",
   "execution_count": null,
   "metadata": {
    "collapsed": false
   },
   "outputs": [],
   "source": [
    "log = logging.getLogger(__name__)\n",
    "\n",
    "compare = SimpleCharacterizer()\n",
    "database = Database(db=\"test.db\",\n",
    "                    new_database=True,\n",
    "                    compare_clusters=SimpleCharacterizer(accuracy=5e-7))\n",
    "\n",
    "lj = Molecule(coordinates=np.array([[0.0, 0.0, 0.0]]), particle_names=[\"LJ\"])\n",
    "system = DefineSystem(numbers_of_molecules=[13], molecules=[lj], log=log, box_length=15)"
   ]
  },
  {
   "cell_type": "code",
   "execution_count": null,
   "metadata": {
    "collapsed": false
   },
   "outputs": [],
   "source": [
    "daemon = Pyro4.Daemon()\n",
    "\n",
    "GA = PoolGA(database=database, \n",
    "            min_pool_size=5, \n",
    "            max_generations=2,\n",
    "            system=system, \n",
    "            daemon=daemon,\n",
    "            log=log)\n",
    "\n",
    "with open(\"example.uri\", \"w\") as f:\n",
    "    uri = daemon.register(GA)\n",
    "    f.write(str(uri))\n",
    "\n",
    "GA.start_threads()\n",
    "daemon.requestLoop()"
   ]
  }
 ],
 "metadata": {
  "kernelspec": {
   "display_name": "my-virtualenv-name",
   "language": "python",
   "name": "my-virtualenv-name"
  },
  "language_info": {
   "codemirror_mode": {
    "name": "ipython",
    "version": 3
   },
   "file_extension": ".py",
   "mimetype": "text/x-python",
   "name": "python",
   "nbconvert_exporter": "python",
   "pygments_lexer": "ipython3",
   "version": "3.6.4"
  }
 },
 "nbformat": 4,
 "nbformat_minor": 2
}
